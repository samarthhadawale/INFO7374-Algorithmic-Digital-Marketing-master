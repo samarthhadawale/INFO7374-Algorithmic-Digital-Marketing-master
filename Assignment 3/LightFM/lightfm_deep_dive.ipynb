{
 "cells": [
  {
   "cell_type": "markdown",
   "metadata": {},
   "source": [
    "<i>Copyright (c) Microsoft Corporation. All rights reserved.</i>\n",
    "\n",
    "<i>Licensed under the MIT License.</i>"
   ]
  },
  {
   "cell_type": "markdown",
   "metadata": {},
   "source": [
    "# LightFM -  hybrid matrix factorisation on MovieLens (Python, CPU)"
   ]
  },
  {
   "cell_type": "markdown",
   "metadata": {},
   "source": [
    "This notebook explains the concept of a hybrid matrix factorisation based model for recommendation, it also outlines the steps to construct a pure matrix factorisation and a hybrid models using the [LightFM](https://github.com/lyst/lightfm) package. It also demonstrates how to extract both user and item affinity from a fitted hybrid model.\n",
    "\n",
    "## 1. Hybrid matrix factorisation model\n",
    "\n",
    "### 1.1 Background\n",
    "\n",
    "In general, most recommendation models can be divided into two categories:\n",
    "- Content based model,\n",
    "- Collaborative filtering model.\n",
    "\n",
    "The content-based model recommends based on similarity of the items and/or users using their description/metadata/profile. On the other hand, collaborative filtering model (discussion is limited to matrix factorisation approach in this notebook) computes the latent factors of the users and items. It works based on the assumption that if a group of people expressed similar opinions on an item, these peole would tend to have similar opinions on other items. For further background and detailed explanation between these two approaches, the reader can refer to machine learning literatures [3, 4].\n",
    "\n",
    "The choice between the two models is largely based on the data availability. For example, the collaborative filtering model is usually adopted and effective when sufficient ratings/feedbacks have been recorded for a group of users and items.\n",
    "\n",
    "However, if there is a lack of ratings, content based model can be used provided that the metadata of the users and items are available. This is also the common approach to address the cold-start issues, where there are insufficient historical collaborative interactions available to model new users and/or items.\n",
    "\n",
    "<!-- In addition, most collaborative filtering models only consume explicit ratings e.g. movie \n",
    "\n",
    "**NOTE** add stuff about implicit and explicit ratings -->\n",
    "\n",
    "### 1.2 Hybrid matrix factorisation algorithm\n",
    "\n",
    "In view of the above problems, there have been a number of proposals to address the cold-start issues by combining both content-based and collaborative filtering approaches. The hybrid matrix factorisation model is among one of the solutions proposed [1].  \n",
    "\n",
    "In general, most hybrid approaches proposed different ways of assessing and/or combining the feature data in conjunction with the collaborative information.\n",
    "\n",
    "### 1.3 LightFM package \n",
    "\n",
    "LightFM is a Python implementation of a hybrid recommendation algorithms for both implicit and explicit feedbacks [1].\n",
    "\n",
    "It is a hybrid content-collaborative model which represents users and items as linear combinations of their content features’ latent factors. The model learns **embeddings or latent representations of the users and items in such a way that it encodes user preferences over items**. These representations produce scores for every item for a given user; items scored highly are more likely to be interesting to the user.\n",
    "\n",
    "The user and item embeddings are estimated for every feature, and these features are then added together to be the final representations for users and items. \n",
    "\n",
    "For example, for user i, the model retrieves the i-th row of the feature matrix to find the features with non-zero weights. The embeddings for these features will then be added together to become the user representation e.g. if user 10 has weight 1 in the 5th column of the user feature matrix, and weight 3 in the 20th column, the user 10’s representation is the sum of embedding for the 5th and the 20th features multiplying their corresponding weights. The representation for each items is computed in the same approach. \n",
    "\n",
    "#### 1.3.1 Modelling approach\n",
    "\n",
    "Let $U$ be the set of users and $I$ be the set of items, and each user can be described by a set of user features $f_{u} \\subset F^{U}$ whilst each items can be described by item features $f_{i} \\subset F^{I}$. Both $F^{U}$ and $F^{I}$ are all the features which fully describe all users and items. \n",
    "\n",
    "The LightFM model operates based binary feedbacks, the ratings will be normalised into two groups. The user-item interaction pairs $(u,i) \\in U\\times I$ are the union of positive (favourable reviews) $S^+$ and negative interactions (negative reviews) $S^-$ for explicit ratings. For implicit feedbacks, these can be the observed and not observed interactions respectively.\n",
    "\n",
    "For each user and item feature, their embeddings are $e_{f}^{U}$ and $e_{f}^{I}$ respectively. Furthermore, each feature is also has a scalar bias term ($b_U^f$ for user and $b_I^f$ for item features). The embedding (latent representation) of user $u$ and item $i$ are the sum of its respective features’ latent vectors:\n",
    "\n",
    "$$ \n",
    "q_{u} = \\sum_{j \\in f_{u}} e_{j}^{U}\n",
    "$$\n",
    "\n",
    "$$\n",
    "p_{i} = \\sum_{j \\in f_{i}} e_{j}^{I}\n",
    "$$\n",
    "\n",
    "Similarly the biases for user $u$ and item $i$ are the sum of its respective bias vectors. These variables capture the variation in behaviour across users and items:\n",
    "\n",
    "$$\n",
    "b_{u} = \\sum_{j \\in f_{u}} b_{j}^{U}\n",
    "$$\n",
    "\n",
    "$$\n",
    "b_{i} = \\sum_{j \\in f_{i}} b_{j}^{I}\n",
    "$$\n",
    "\n",
    "In LightFM, the representation for each user/item is a linear weighted sum of its feature vectors.\n",
    "\n",
    "The prediction for user $u$ and item $i$ can be modelled as sigmoid of the dot product of user and item vectors, adjusted by its feature biases as follows:\n",
    "\n",
    "$$\n",
    "\\hat{r}_{ui} = \\sigma (q_{u} \\cdot p_{i} + b_{u} + b_{i})\n",
    "$$\n",
    "\n",
    "As the LightFM is constructed to predict binary outcomes e.g. $S^+$ and $S^-$, the function $\\sigma()$ is based on the [sigmoid function](https://mathworld.wolfram.com/SigmoidFunction.html). \n",
    "\n",
    "The LightFM algorithm estimates interaction latent vectors and bias for features. For model fitting, the cost function of the model consists of maximising the likelihood of data conditional on the parameters described above using stochastic gradient descent. The likelihood can be expressed as follows:\n",
    "\n",
    "$$\n",
    "L = \\prod_{(u,i) \\in S+}\\hat{r}_{ui} \\times \\prod_{(u,i) \\in S-}1 - \\hat{r}_{ui}\n",
    "$$\n",
    "\n",
    "Note that if the feature latent vectors are not available, the algorithm will behaves like a [logistic matrix factorisation model](http://stanford.edu/~rezab/nips2014workshop/submits/logmat.pdf)."
   ]
  },
  {
   "cell_type": "markdown",
   "metadata": {},
   "source": [
    "## 2. Movie recommender with LightFM using only explicit feedbacks"
   ]
  },
  {
   "cell_type": "markdown",
   "metadata": {},
   "source": [
    "### 2.1 Import libraries"
   ]
  },
  {
   "cell_type": "code",
   "execution_count": 1,
   "metadata": {},
   "outputs": [
    {
     "name": "stderr",
     "output_type": "stream",
     "text": [
      "/Users/samarthhadawale/opt/miniconda3/envs/reco_base/lib/python3.6/site-packages/lightfm/_lightfm_fast.py:9: UserWarning: LightFM was compiled without OpenMP support. Only a single thread will be used.\n",
      "  warnings.warn('LightFM was compiled without OpenMP support. '\n"
     ]
    },
    {
     "name": "stdout",
     "output_type": "stream",
     "text": [
      "System version: 3.6.10 |Anaconda, Inc.| (default, May  7 2020, 23:06:31) \n",
      "[GCC 4.2.1 Compatible Clang 4.0.1 (tags/RELEASE_401/final)]\n",
      "LightFM version: 1.15\n"
     ]
    }
   ],
   "source": [
    "import sys\n",
    "sys.path.append(\"../../\")\n",
    "import os\n",
    "\n",
    "import itertools\n",
    "import pandas as pd\n",
    "import numpy as np\n",
    "import matplotlib.pyplot as plt\n",
    "import seaborn as sns\n",
    "\n",
    "import lightfm\n",
    "from lightfm import LightFM\n",
    "from lightfm.data import Dataset\n",
    "from lightfm import cross_validation\n",
    "\n",
    "# Import LightFM's evaluation metrics\n",
    "from lightfm.evaluation import precision_at_k as lightfm_prec_at_k\n",
    "from lightfm.evaluation import recall_at_k as lightfm_recall_at_k\n",
    "\n",
    "# Import repo's evaluation metrics\n",
    "from reco_utils.evaluation.python_evaluation import (\n",
    "    precision_at_k, recall_at_k)\n",
    "\n",
    "from reco_utils.common.timer import Timer\n",
    "from reco_utils.dataset import movielens\n",
    "from reco_utils.recommender.lightfm.lightfm_utils import (\n",
    "    track_model_metrics, prepare_test_df, prepare_all_predictions,\n",
    "    compare_metric, similar_users, similar_items)\n",
    "\n",
    "print(\"System version: {}\".format(sys.version))\n",
    "print(\"LightFM version: {}\".format(lightfm.__version__))"
   ]
  },
  {
   "cell_type": "markdown",
   "metadata": {},
   "source": [
    "### 2.2 Defining variables"
   ]
  },
  {
   "cell_type": "code",
   "execution_count": 2,
   "metadata": {
    "tags": [
     "parameters"
    ]
   },
   "outputs": [],
   "source": [
    "# Select MovieLens data size\n",
    "MOVIELENS_DATA_SIZE = '100k'\n",
    "\n",
    "# default number of recommendations\n",
    "K = 10\n",
    "# percentage of data used for testing\n",
    "TEST_PERCENTAGE = 0.25\n",
    "# model learning rate\n",
    "LEARNING_RATE = 0.25\n",
    "# no of latent factors\n",
    "NO_COMPONENTS = 20\n",
    "# no of epochs to fit model\n",
    "NO_EPOCHS = 20\n",
    "# no of threads to fit model\n",
    "NO_THREADS = 32\n",
    "# regularisation for both user and item features\n",
    "ITEM_ALPHA=1e-6\n",
    "USER_ALPHA=1e-6\n",
    "\n",
    "# seed for pseudonumber generations\n",
    "SEEDNO = 42"
   ]
  },
  {
   "cell_type": "code",
   "execution_count": 3,
   "metadata": {},
   "outputs": [],
   "source": [
    "import pandas as pd\n",
    "#read CSV1\n",
    "CSV1 = pd.read_csv('snack_first.csv', delimiter=\",\")#Skip rows if required, skiprows=2)\n",
    "#read CSV2\n",
    "CSV2 = pd.read_csv('itemInfo.csv', delimiter=\",\")#Skip rows if required, skiprows=2)\n",
    "#Combine CSV\n",
    "CombinedCSV = pd.merge(CSV1, CSV2, left_on=['itemID'], right_on=['itemID'])\n",
    "CombinedCSV.drop('Unnamed: 0', axis = 1, inplace = True)\n",
    "#Save the CSV\n",
    "#CombinedCSV.sample(10)\n",
    "CombinedCSV.to_csv('CombinedCSV.csv', sep=',', index=False, encoding='utf-8')"
   ]
  },
  {
   "cell_type": "code",
   "execution_count": 4,
   "metadata": {},
   "outputs": [
    {
     "data": {
      "text/html": [
       "<div>\n",
       "<style scoped>\n",
       "    .dataframe tbody tr th:only-of-type {\n",
       "        vertical-align: middle;\n",
       "    }\n",
       "\n",
       "    .dataframe tbody tr th {\n",
       "        vertical-align: top;\n",
       "    }\n",
       "\n",
       "    .dataframe thead th {\n",
       "        text-align: right;\n",
       "    }\n",
       "</style>\n",
       "<table border=\"1\" class=\"dataframe\">\n",
       "  <thead>\n",
       "    <tr style=\"text-align: right;\">\n",
       "      <th></th>\n",
       "      <th>userID</th>\n",
       "      <th>itemID</th>\n",
       "      <th>rating</th>\n",
       "      <th>itemName</th>\n",
       "      <th>category</th>\n",
       "    </tr>\n",
       "  </thead>\n",
       "  <tbody>\n",
       "    <tr>\n",
       "      <th>0</th>\n",
       "      <td>1882</td>\n",
       "      <td>6</td>\n",
       "      <td>3</td>\n",
       "      <td>Egg &amp; cheese wrap</td>\n",
       "      <td>EggFood</td>\n",
       "    </tr>\n",
       "    <tr>\n",
       "      <th>1</th>\n",
       "      <td>1966</td>\n",
       "      <td>6</td>\n",
       "      <td>1</td>\n",
       "      <td>Egg &amp; cheese wrap</td>\n",
       "      <td>EggFood</td>\n",
       "    </tr>\n",
       "    <tr>\n",
       "      <th>2</th>\n",
       "      <td>1569</td>\n",
       "      <td>6</td>\n",
       "      <td>3</td>\n",
       "      <td>Egg &amp; cheese wrap</td>\n",
       "      <td>EggFood</td>\n",
       "    </tr>\n",
       "    <tr>\n",
       "      <th>3</th>\n",
       "      <td>396</td>\n",
       "      <td>6</td>\n",
       "      <td>2</td>\n",
       "      <td>Egg &amp; cheese wrap</td>\n",
       "      <td>EggFood</td>\n",
       "    </tr>\n",
       "    <tr>\n",
       "      <th>4</th>\n",
       "      <td>591</td>\n",
       "      <td>6</td>\n",
       "      <td>1</td>\n",
       "      <td>Egg &amp; cheese wrap</td>\n",
       "      <td>EggFood</td>\n",
       "    </tr>\n",
       "    <tr>\n",
       "      <th>...</th>\n",
       "      <td>...</td>\n",
       "      <td>...</td>\n",
       "      <td>...</td>\n",
       "      <td>...</td>\n",
       "      <td>...</td>\n",
       "    </tr>\n",
       "    <tr>\n",
       "      <th>9995</th>\n",
       "      <td>1636</td>\n",
       "      <td>11</td>\n",
       "      <td>3</td>\n",
       "      <td>Hot Tea</td>\n",
       "      <td>Drinks</td>\n",
       "    </tr>\n",
       "    <tr>\n",
       "      <th>9996</th>\n",
       "      <td>1117</td>\n",
       "      <td>11</td>\n",
       "      <td>4</td>\n",
       "      <td>Hot Tea</td>\n",
       "      <td>Drinks</td>\n",
       "    </tr>\n",
       "    <tr>\n",
       "      <th>9997</th>\n",
       "      <td>1773</td>\n",
       "      <td>11</td>\n",
       "      <td>1</td>\n",
       "      <td>Hot Tea</td>\n",
       "      <td>Drinks</td>\n",
       "    </tr>\n",
       "    <tr>\n",
       "      <th>9998</th>\n",
       "      <td>635</td>\n",
       "      <td>11</td>\n",
       "      <td>4</td>\n",
       "      <td>Hot Tea</td>\n",
       "      <td>Drinks</td>\n",
       "    </tr>\n",
       "    <tr>\n",
       "      <th>9999</th>\n",
       "      <td>1383</td>\n",
       "      <td>11</td>\n",
       "      <td>4</td>\n",
       "      <td>Hot Tea</td>\n",
       "      <td>Drinks</td>\n",
       "    </tr>\n",
       "  </tbody>\n",
       "</table>\n",
       "<p>10000 rows × 5 columns</p>\n",
       "</div>"
      ],
      "text/plain": [
       "      userID  itemID  rating           itemName category\n",
       "0       1882       6       3  Egg & cheese wrap  EggFood\n",
       "1       1966       6       1  Egg & cheese wrap  EggFood\n",
       "2       1569       6       3  Egg & cheese wrap  EggFood\n",
       "3        396       6       2  Egg & cheese wrap  EggFood\n",
       "4        591       6       1  Egg & cheese wrap  EggFood\n",
       "...      ...     ...     ...                ...      ...\n",
       "9995    1636      11       3            Hot Tea   Drinks\n",
       "9996    1117      11       4            Hot Tea   Drinks\n",
       "9997    1773      11       1            Hot Tea   Drinks\n",
       "9998     635      11       4            Hot Tea   Drinks\n",
       "9999    1383      11       4            Hot Tea   Drinks\n",
       "\n",
       "[10000 rows x 5 columns]"
      ]
     },
     "execution_count": 4,
     "metadata": {},
     "output_type": "execute_result"
    }
   ],
   "source": [
    "df = pd.read_csv('CombinedCSV.csv')\n",
    "df"
   ]
  },
  {
   "cell_type": "code",
   "execution_count": 5,
   "metadata": {},
   "outputs": [
    {
     "data": {
      "text/html": [
       "<div>\n",
       "<style scoped>\n",
       "    .dataframe tbody tr th:only-of-type {\n",
       "        vertical-align: middle;\n",
       "    }\n",
       "\n",
       "    .dataframe tbody tr th {\n",
       "        vertical-align: top;\n",
       "    }\n",
       "\n",
       "    .dataframe thead th {\n",
       "        text-align: right;\n",
       "    }\n",
       "</style>\n",
       "<table border=\"1\" class=\"dataframe\">\n",
       "  <thead>\n",
       "    <tr style=\"text-align: right;\">\n",
       "      <th></th>\n",
       "      <th>userID</th>\n",
       "      <th>itemID</th>\n",
       "      <th>rating</th>\n",
       "      <th>category</th>\n",
       "    </tr>\n",
       "  </thead>\n",
       "  <tbody>\n",
       "    <tr>\n",
       "      <th>0</th>\n",
       "      <td>1882</td>\n",
       "      <td>6</td>\n",
       "      <td>3</td>\n",
       "      <td>EggFood</td>\n",
       "    </tr>\n",
       "    <tr>\n",
       "      <th>1</th>\n",
       "      <td>1966</td>\n",
       "      <td>6</td>\n",
       "      <td>1</td>\n",
       "      <td>EggFood</td>\n",
       "    </tr>\n",
       "    <tr>\n",
       "      <th>2</th>\n",
       "      <td>1569</td>\n",
       "      <td>6</td>\n",
       "      <td>3</td>\n",
       "      <td>EggFood</td>\n",
       "    </tr>\n",
       "    <tr>\n",
       "      <th>3</th>\n",
       "      <td>396</td>\n",
       "      <td>6</td>\n",
       "      <td>2</td>\n",
       "      <td>EggFood</td>\n",
       "    </tr>\n",
       "    <tr>\n",
       "      <th>4</th>\n",
       "      <td>591</td>\n",
       "      <td>6</td>\n",
       "      <td>1</td>\n",
       "      <td>EggFood</td>\n",
       "    </tr>\n",
       "    <tr>\n",
       "      <th>...</th>\n",
       "      <td>...</td>\n",
       "      <td>...</td>\n",
       "      <td>...</td>\n",
       "      <td>...</td>\n",
       "    </tr>\n",
       "    <tr>\n",
       "      <th>9995</th>\n",
       "      <td>1636</td>\n",
       "      <td>11</td>\n",
       "      <td>3</td>\n",
       "      <td>Drinks</td>\n",
       "    </tr>\n",
       "    <tr>\n",
       "      <th>9996</th>\n",
       "      <td>1117</td>\n",
       "      <td>11</td>\n",
       "      <td>4</td>\n",
       "      <td>Drinks</td>\n",
       "    </tr>\n",
       "    <tr>\n",
       "      <th>9997</th>\n",
       "      <td>1773</td>\n",
       "      <td>11</td>\n",
       "      <td>1</td>\n",
       "      <td>Drinks</td>\n",
       "    </tr>\n",
       "    <tr>\n",
       "      <th>9998</th>\n",
       "      <td>635</td>\n",
       "      <td>11</td>\n",
       "      <td>4</td>\n",
       "      <td>Drinks</td>\n",
       "    </tr>\n",
       "    <tr>\n",
       "      <th>9999</th>\n",
       "      <td>1383</td>\n",
       "      <td>11</td>\n",
       "      <td>4</td>\n",
       "      <td>Drinks</td>\n",
       "    </tr>\n",
       "  </tbody>\n",
       "</table>\n",
       "<p>10000 rows × 4 columns</p>\n",
       "</div>"
      ],
      "text/plain": [
       "      userID  itemID  rating category\n",
       "0       1882       6       3  EggFood\n",
       "1       1966       6       1  EggFood\n",
       "2       1569       6       3  EggFood\n",
       "3        396       6       2  EggFood\n",
       "4        591       6       1  EggFood\n",
       "...      ...     ...     ...      ...\n",
       "9995    1636      11       3   Drinks\n",
       "9996    1117      11       4   Drinks\n",
       "9997    1773      11       1   Drinks\n",
       "9998     635      11       4   Drinks\n",
       "9999    1383      11       4   Drinks\n",
       "\n",
       "[10000 rows x 4 columns]"
      ]
     },
     "execution_count": 5,
     "metadata": {},
     "output_type": "execute_result"
    }
   ],
   "source": [
    "df.drop('itemName', axis = 1, inplace = True)\n",
    "df"
   ]
  },
  {
   "cell_type": "code",
   "execution_count": 6,
   "metadata": {},
   "outputs": [],
   "source": [
    "df.to_csv('newData.csv', index = False)"
   ]
  },
  {
   "cell_type": "code",
   "execution_count": 8,
   "metadata": {},
   "outputs": [],
   "source": [
    "import pandas as pd\n",
    "#read CSV1\n",
    "CSV3 = pd.read_csv('CombinedCSV.csv', delimiter=\",\")#Skip rows if required, skiprows=2)\n",
    "#read CSV2\n",
    "CSV4 = pd.read_csv('userData.csv', delimiter=\",\")#Skip rows if required, skiprows=2)\n",
    "#Combine CSV\n",
    "CombinedCSV1 = pd.merge(CSV3, CSV4, left_on=['userID'], right_on=['userID'])\n",
    "#Save the CSV\n",
    "#df.drop('col3', axis = 1, inplace = True)\n",
    "#CombinedCSV1.sample(10)\n",
    "CombinedCSV1.to_csv('CombinedCSV1.csv', sep=',', index=False, encoding='utf-8')"
   ]
  },
  {
   "cell_type": "code",
   "execution_count": 9,
   "metadata": {},
   "outputs": [
    {
     "data": {
      "text/html": [
       "<div>\n",
       "<style scoped>\n",
       "    .dataframe tbody tr th:only-of-type {\n",
       "        vertical-align: middle;\n",
       "    }\n",
       "\n",
       "    .dataframe tbody tr th {\n",
       "        vertical-align: top;\n",
       "    }\n",
       "\n",
       "    .dataframe thead th {\n",
       "        text-align: right;\n",
       "    }\n",
       "</style>\n",
       "<table border=\"1\" class=\"dataframe\">\n",
       "  <thead>\n",
       "    <tr style=\"text-align: right;\">\n",
       "      <th></th>\n",
       "      <th>userID</th>\n",
       "      <th>itemID</th>\n",
       "      <th>rating</th>\n",
       "      <th>itemName</th>\n",
       "      <th>category</th>\n",
       "      <th>userName</th>\n",
       "      <th>occupation</th>\n",
       "    </tr>\n",
       "  </thead>\n",
       "  <tbody>\n",
       "    <tr>\n",
       "      <th>0</th>\n",
       "      <td>1882</td>\n",
       "      <td>6</td>\n",
       "      <td>3</td>\n",
       "      <td>Egg &amp; cheese wrap</td>\n",
       "      <td>EggFood</td>\n",
       "      <td>Albert Stout</td>\n",
       "      <td>professor</td>\n",
       "    </tr>\n",
       "    <tr>\n",
       "      <th>1</th>\n",
       "      <td>1882</td>\n",
       "      <td>22</td>\n",
       "      <td>4</td>\n",
       "      <td>12 Piece Donut Sticks</td>\n",
       "      <td>Veg</td>\n",
       "      <td>Albert Stout</td>\n",
       "      <td>professor</td>\n",
       "    </tr>\n",
       "    <tr>\n",
       "      <th>2</th>\n",
       "      <td>1882</td>\n",
       "      <td>9</td>\n",
       "      <td>4</td>\n",
       "      <td>Hot Chocolate</td>\n",
       "      <td>Drinks</td>\n",
       "      <td>Albert Stout</td>\n",
       "      <td>professor</td>\n",
       "    </tr>\n",
       "    <tr>\n",
       "      <th>3</th>\n",
       "      <td>1882</td>\n",
       "      <td>30</td>\n",
       "      <td>3</td>\n",
       "      <td>Filet-O-Fish</td>\n",
       "      <td>SeaFood</td>\n",
       "      <td>Albert Stout</td>\n",
       "      <td>professor</td>\n",
       "    </tr>\n",
       "    <tr>\n",
       "      <th>4</th>\n",
       "      <td>1882</td>\n",
       "      <td>28</td>\n",
       "      <td>4</td>\n",
       "      <td>Baked Apple Pie</td>\n",
       "      <td>Drinks</td>\n",
       "      <td>Albert Stout</td>\n",
       "      <td>professor</td>\n",
       "    </tr>\n",
       "    <tr>\n",
       "      <th>...</th>\n",
       "      <td>...</td>\n",
       "      <td>...</td>\n",
       "      <td>...</td>\n",
       "      <td>...</td>\n",
       "      <td>...</td>\n",
       "      <td>...</td>\n",
       "      <td>...</td>\n",
       "    </tr>\n",
       "    <tr>\n",
       "      <th>9995</th>\n",
       "      <td>759</td>\n",
       "      <td>35</td>\n",
       "      <td>3</td>\n",
       "      <td>Fish &amp; Chips</td>\n",
       "      <td>SeaFood</td>\n",
       "      <td>Carla Baker</td>\n",
       "      <td>sportsperson</td>\n",
       "    </tr>\n",
       "    <tr>\n",
       "      <th>9996</th>\n",
       "      <td>759</td>\n",
       "      <td>1</td>\n",
       "      <td>3</td>\n",
       "      <td>Veggie Egg White Burger</td>\n",
       "      <td>EggFood</td>\n",
       "      <td>Carla Baker</td>\n",
       "      <td>sportsperson</td>\n",
       "    </tr>\n",
       "    <tr>\n",
       "      <th>9997</th>\n",
       "      <td>474</td>\n",
       "      <td>29</td>\n",
       "      <td>3</td>\n",
       "      <td>Chicken McNuggets</td>\n",
       "      <td>Non Veg</td>\n",
       "      <td>Teresa Simpson</td>\n",
       "      <td>doctor</td>\n",
       "    </tr>\n",
       "    <tr>\n",
       "      <th>9998</th>\n",
       "      <td>1218</td>\n",
       "      <td>11</td>\n",
       "      <td>4</td>\n",
       "      <td>Hot Tea</td>\n",
       "      <td>Drinks</td>\n",
       "      <td>Brenda Moore</td>\n",
       "      <td>dancer</td>\n",
       "    </tr>\n",
       "    <tr>\n",
       "      <th>9999</th>\n",
       "      <td>1218</td>\n",
       "      <td>11</td>\n",
       "      <td>2</td>\n",
       "      <td>Hot Tea</td>\n",
       "      <td>Drinks</td>\n",
       "      <td>Brenda Moore</td>\n",
       "      <td>dancer</td>\n",
       "    </tr>\n",
       "  </tbody>\n",
       "</table>\n",
       "<p>10000 rows × 7 columns</p>\n",
       "</div>"
      ],
      "text/plain": [
       "      userID  itemID  rating                 itemName category  \\\n",
       "0       1882       6       3        Egg & cheese wrap  EggFood   \n",
       "1       1882      22       4    12 Piece Donut Sticks      Veg   \n",
       "2       1882       9       4            Hot Chocolate   Drinks   \n",
       "3       1882      30       3             Filet-O-Fish  SeaFood   \n",
       "4       1882      28       4          Baked Apple Pie   Drinks   \n",
       "...      ...     ...     ...                      ...      ...   \n",
       "9995     759      35       3             Fish & Chips  SeaFood   \n",
       "9996     759       1       3  Veggie Egg White Burger  EggFood   \n",
       "9997     474      29       3        Chicken McNuggets  Non Veg   \n",
       "9998    1218      11       4                  Hot Tea   Drinks   \n",
       "9999    1218      11       2                  Hot Tea   Drinks   \n",
       "\n",
       "            userName    occupation  \n",
       "0       Albert Stout     professor  \n",
       "1       Albert Stout     professor  \n",
       "2       Albert Stout     professor  \n",
       "3       Albert Stout     professor  \n",
       "4       Albert Stout     professor  \n",
       "...              ...           ...  \n",
       "9995     Carla Baker  sportsperson  \n",
       "9996     Carla Baker  sportsperson  \n",
       "9997  Teresa Simpson        doctor  \n",
       "9998    Brenda Moore        dancer  \n",
       "9999    Brenda Moore        dancer  \n",
       "\n",
       "[10000 rows x 7 columns]"
      ]
     },
     "execution_count": 9,
     "metadata": {},
     "output_type": "execute_result"
    }
   ],
   "source": [
    "df = pd.read_csv('CombinedCSV1.csv')\n",
    "df"
   ]
  },
  {
   "cell_type": "code",
   "execution_count": 10,
   "metadata": {},
   "outputs": [
    {
     "data": {
      "text/html": [
       "<div>\n",
       "<style scoped>\n",
       "    .dataframe tbody tr th:only-of-type {\n",
       "        vertical-align: middle;\n",
       "    }\n",
       "\n",
       "    .dataframe tbody tr th {\n",
       "        vertical-align: top;\n",
       "    }\n",
       "\n",
       "    .dataframe thead th {\n",
       "        text-align: right;\n",
       "    }\n",
       "</style>\n",
       "<table border=\"1\" class=\"dataframe\">\n",
       "  <thead>\n",
       "    <tr style=\"text-align: right;\">\n",
       "      <th></th>\n",
       "      <th>userID</th>\n",
       "      <th>itemID</th>\n",
       "      <th>rating</th>\n",
       "      <th>category</th>\n",
       "      <th>occupation</th>\n",
       "    </tr>\n",
       "  </thead>\n",
       "  <tbody>\n",
       "    <tr>\n",
       "      <th>0</th>\n",
       "      <td>1882</td>\n",
       "      <td>6</td>\n",
       "      <td>3</td>\n",
       "      <td>EggFood</td>\n",
       "      <td>professor</td>\n",
       "    </tr>\n",
       "    <tr>\n",
       "      <th>1</th>\n",
       "      <td>1882</td>\n",
       "      <td>22</td>\n",
       "      <td>4</td>\n",
       "      <td>Veg</td>\n",
       "      <td>professor</td>\n",
       "    </tr>\n",
       "    <tr>\n",
       "      <th>2</th>\n",
       "      <td>1882</td>\n",
       "      <td>9</td>\n",
       "      <td>4</td>\n",
       "      <td>Drinks</td>\n",
       "      <td>professor</td>\n",
       "    </tr>\n",
       "    <tr>\n",
       "      <th>3</th>\n",
       "      <td>1882</td>\n",
       "      <td>30</td>\n",
       "      <td>3</td>\n",
       "      <td>SeaFood</td>\n",
       "      <td>professor</td>\n",
       "    </tr>\n",
       "    <tr>\n",
       "      <th>4</th>\n",
       "      <td>1882</td>\n",
       "      <td>28</td>\n",
       "      <td>4</td>\n",
       "      <td>Drinks</td>\n",
       "      <td>professor</td>\n",
       "    </tr>\n",
       "    <tr>\n",
       "      <th>...</th>\n",
       "      <td>...</td>\n",
       "      <td>...</td>\n",
       "      <td>...</td>\n",
       "      <td>...</td>\n",
       "      <td>...</td>\n",
       "    </tr>\n",
       "    <tr>\n",
       "      <th>9995</th>\n",
       "      <td>759</td>\n",
       "      <td>35</td>\n",
       "      <td>3</td>\n",
       "      <td>SeaFood</td>\n",
       "      <td>sportsperson</td>\n",
       "    </tr>\n",
       "    <tr>\n",
       "      <th>9996</th>\n",
       "      <td>759</td>\n",
       "      <td>1</td>\n",
       "      <td>3</td>\n",
       "      <td>EggFood</td>\n",
       "      <td>sportsperson</td>\n",
       "    </tr>\n",
       "    <tr>\n",
       "      <th>9997</th>\n",
       "      <td>474</td>\n",
       "      <td>29</td>\n",
       "      <td>3</td>\n",
       "      <td>Non Veg</td>\n",
       "      <td>doctor</td>\n",
       "    </tr>\n",
       "    <tr>\n",
       "      <th>9998</th>\n",
       "      <td>1218</td>\n",
       "      <td>11</td>\n",
       "      <td>4</td>\n",
       "      <td>Drinks</td>\n",
       "      <td>dancer</td>\n",
       "    </tr>\n",
       "    <tr>\n",
       "      <th>9999</th>\n",
       "      <td>1218</td>\n",
       "      <td>11</td>\n",
       "      <td>2</td>\n",
       "      <td>Drinks</td>\n",
       "      <td>dancer</td>\n",
       "    </tr>\n",
       "  </tbody>\n",
       "</table>\n",
       "<p>10000 rows × 5 columns</p>\n",
       "</div>"
      ],
      "text/plain": [
       "      userID  itemID  rating category    occupation\n",
       "0       1882       6       3  EggFood     professor\n",
       "1       1882      22       4      Veg     professor\n",
       "2       1882       9       4   Drinks     professor\n",
       "3       1882      30       3  SeaFood     professor\n",
       "4       1882      28       4   Drinks     professor\n",
       "...      ...     ...     ...      ...           ...\n",
       "9995     759      35       3  SeaFood  sportsperson\n",
       "9996     759       1       3  EggFood  sportsperson\n",
       "9997     474      29       3  Non Veg        doctor\n",
       "9998    1218      11       4   Drinks        dancer\n",
       "9999    1218      11       2   Drinks        dancer\n",
       "\n",
       "[10000 rows x 5 columns]"
      ]
     },
     "execution_count": 10,
     "metadata": {},
     "output_type": "execute_result"
    }
   ],
   "source": [
    "df.drop('itemName', axis = 1, inplace = True)\n",
    "df.drop('userName', axis = 1, inplace = True)\n",
    "df"
   ]
  },
  {
   "cell_type": "code",
   "execution_count": 11,
   "metadata": {},
   "outputs": [],
   "source": [
    "df.to_csv('combo.csv', index = False)"
   ]
  },
  {
   "cell_type": "markdown",
   "metadata": {},
   "source": [
    "### 2.2 Retrieve data"
   ]
  },
  {
   "cell_type": "code",
   "execution_count": 12,
   "metadata": {
    "scrolled": true
   },
   "outputs": [
    {
     "data": {
      "text/html": [
       "<div>\n",
       "<style scoped>\n",
       "    .dataframe tbody tr th:only-of-type {\n",
       "        vertical-align: middle;\n",
       "    }\n",
       "\n",
       "    .dataframe tbody tr th {\n",
       "        vertical-align: top;\n",
       "    }\n",
       "\n",
       "    .dataframe thead th {\n",
       "        text-align: right;\n",
       "    }\n",
       "</style>\n",
       "<table border=\"1\" class=\"dataframe\">\n",
       "  <thead>\n",
       "    <tr style=\"text-align: right;\">\n",
       "      <th></th>\n",
       "      <th>userID</th>\n",
       "      <th>itemID</th>\n",
       "      <th>rating</th>\n",
       "      <th>category</th>\n",
       "    </tr>\n",
       "  </thead>\n",
       "  <tbody>\n",
       "    <tr>\n",
       "      <th>795</th>\n",
       "      <td>1129</td>\n",
       "      <td>16</td>\n",
       "      <td>2</td>\n",
       "      <td>Drinks</td>\n",
       "    </tr>\n",
       "    <tr>\n",
       "      <th>9854</th>\n",
       "      <td>745</td>\n",
       "      <td>11</td>\n",
       "      <td>2</td>\n",
       "      <td>Drinks</td>\n",
       "    </tr>\n",
       "    <tr>\n",
       "      <th>5792</th>\n",
       "      <td>1754</td>\n",
       "      <td>20</td>\n",
       "      <td>1</td>\n",
       "      <td>Veg</td>\n",
       "    </tr>\n",
       "    <tr>\n",
       "      <th>447</th>\n",
       "      <td>119</td>\n",
       "      <td>39</td>\n",
       "      <td>4</td>\n",
       "      <td>Non Veg</td>\n",
       "    </tr>\n",
       "    <tr>\n",
       "      <th>8768</th>\n",
       "      <td>1806</td>\n",
       "      <td>31</td>\n",
       "      <td>4</td>\n",
       "      <td>Non Veg</td>\n",
       "    </tr>\n",
       "  </tbody>\n",
       "</table>\n",
       "</div>"
      ],
      "text/plain": [
       "      userID  itemID  rating category\n",
       "795     1129      16       2   Drinks\n",
       "9854     745      11       2   Drinks\n",
       "5792    1754      20       1      Veg\n",
       "447      119      39       4  Non Veg\n",
       "8768    1806      31       4  Non Veg"
      ]
     },
     "execution_count": 12,
     "metadata": {},
     "output_type": "execute_result"
    }
   ],
   "source": [
    "data = pd.read_csv(\"newData.csv\")\n",
    "\n",
    "# quick look at the data\n",
    "data.sample(5)"
   ]
  },
  {
   "cell_type": "markdown",
   "metadata": {},
   "source": [
    "### 2.3 Prepare data"
   ]
  },
  {
   "cell_type": "markdown",
   "metadata": {},
   "source": [
    "Before fitting the LightFM model, we need to create an instance of `Dataset` which holds the interaction matrix."
   ]
  },
  {
   "cell_type": "code",
   "execution_count": 13,
   "metadata": {},
   "outputs": [],
   "source": [
    "dataset = Dataset()"
   ]
  },
  {
   "cell_type": "markdown",
   "metadata": {},
   "source": [
    "The `fit` method creates the user/item id mappings."
   ]
  },
  {
   "cell_type": "code",
   "execution_count": 14,
   "metadata": {},
   "outputs": [
    {
     "name": "stdout",
     "output_type": "stream",
     "text": [
      "Num users: 1986, num_topics: 49.\n"
     ]
    }
   ],
   "source": [
    "dataset.fit(users=data['userID'], \n",
    "            items=data['itemID'])\n",
    "\n",
    "# quick check to determine the number of unique users and items in the data\n",
    "num_users, num_topics = dataset.interactions_shape()\n",
    "print(f'Num users: {num_users}, num_topics: {num_topics}.')"
   ]
  },
  {
   "cell_type": "markdown",
   "metadata": {},
   "source": [
    "Next is to build the interaction matrix. The `build_interactions` method returns 2 COO sparse matrices, namely the `interactions` and `weights` matrices."
   ]
  },
  {
   "cell_type": "code",
   "execution_count": 15,
   "metadata": {},
   "outputs": [],
   "source": [
    "(interactions, weights) = dataset.build_interactions(data.iloc[:, 0:3].values)"
   ]
  },
  {
   "cell_type": "markdown",
   "metadata": {},
   "source": [
    "LightLM works slightly differently compared to other packages as it expects the train and test sets to have same dimension. Therefore the conventional train test split will not work.\n",
    "\n",
    "The package has included the `cross_validation.random_train_test_split` method to split the interaction data and splits it into two disjoint training and test sets. \n",
    "\n",
    "However, note that **it does not validate the interactions in the test set to guarantee all items and users have historical interactions in the training set**. Therefore this may result into a partial cold-start problem in the test set."
   ]
  },
  {
   "cell_type": "code",
   "execution_count": 16,
   "metadata": {},
   "outputs": [],
   "source": [
    "train_interactions, test_interactions = cross_validation.random_train_test_split(\n",
    "    interactions, test_percentage=TEST_PERCENTAGE,\n",
    "    random_state=np.random.RandomState(SEEDNO))"
   ]
  },
  {
   "cell_type": "markdown",
   "metadata": {},
   "source": [
    "Double check the size of both the train and test sets."
   ]
  },
  {
   "cell_type": "code",
   "execution_count": 17,
   "metadata": {},
   "outputs": [
    {
     "name": "stdout",
     "output_type": "stream",
     "text": [
      "Shape of train interactions: (1986, 49)\n",
      "Shape of test interactions: (1986, 49)\n"
     ]
    }
   ],
   "source": [
    "print(f\"Shape of train interactions: {train_interactions.shape}\")\n",
    "print(f\"Shape of test interactions: {test_interactions.shape}\")"
   ]
  },
  {
   "cell_type": "markdown",
   "metadata": {},
   "source": [
    "### 2.4 Fit the LightFM model"
   ]
  },
  {
   "cell_type": "markdown",
   "metadata": {},
   "source": [
    "In this notebook, the LightFM model will be using the weighted Approximate-Rank Pairwise (WARP) as the loss. Further explanation on the topic can be found [here](https://making.lyst.com/lightfm/docs/examples/warp_loss.html#learning-to-rank-using-the-warp-loss).\n",
    "\n",
    "\n",
    "In general, it maximises the rank of positive examples by repeatedly sampling negative examples until a rank violation has been located. This approach is recommended when only positive interactions are present."
   ]
  },
  {
   "cell_type": "code",
   "execution_count": 18,
   "metadata": {
    "scrolled": true
   },
   "outputs": [],
   "source": [
    "model1 = LightFM(loss='warp', no_components=NO_COMPONENTS, \n",
    "                 learning_rate=LEARNING_RATE,                 \n",
    "                 random_state=np.random.RandomState(SEEDNO))"
   ]
  },
  {
   "cell_type": "markdown",
   "metadata": {},
   "source": [
    "The LightFM model can be fitted with the following code:"
   ]
  },
  {
   "cell_type": "code",
   "execution_count": 19,
   "metadata": {},
   "outputs": [],
   "source": [
    "model1.fit(interactions=train_interactions,\n",
    "          epochs=NO_EPOCHS);"
   ]
  },
  {
   "cell_type": "markdown",
   "metadata": {},
   "source": [
    "### 2.5 Prepare model evaluation data"
   ]
  },
  {
   "cell_type": "markdown",
   "metadata": {},
   "source": [
    "Before we can evaluate the fitted model and to get the data into a format which is compatible with the existing evaluation methods within this repo, the data needs to be massaged slightly.\n",
    "\n",
    "First the train/test indices need to be extracted from the `lightfm.cross_validation` method as follows:"
   ]
  },
  {
   "cell_type": "code",
   "execution_count": 20,
   "metadata": {},
   "outputs": [],
   "source": [
    "uids, iids, interaction_data = cross_validation._shuffle(\n",
    "    interactions.row, interactions.col, interactions.data, \n",
    "    random_state=np.random.RandomState(SEEDNO))\n",
    "\n",
    "cutoff = int((1.0 - TEST_PERCENTAGE) * len(uids))\n",
    "test_idx = slice(cutoff, None)"
   ]
  },
  {
   "cell_type": "markdown",
   "metadata": {},
   "source": [
    "Then the the mapping between internal and external representation of the user and item are extracted as follows:"
   ]
  },
  {
   "cell_type": "code",
   "execution_count": 21,
   "metadata": {},
   "outputs": [],
   "source": [
    "uid_map, ufeature_map, iid_map, ifeature_map = dataset.mapping()"
   ]
  },
  {
   "cell_type": "markdown",
   "metadata": {},
   "source": [
    "Once the train/test indices and mapping are ready, the test dataframe can be constructed as follows:"
   ]
  },
  {
   "cell_type": "code",
   "execution_count": 22,
   "metadata": {},
   "outputs": [
    {
     "name": "stdout",
     "output_type": "stream",
     "text": [
      "Took 0.2 seconds for prepare and predict test data.\n"
     ]
    }
   ],
   "source": [
    "with Timer() as test_time:\n",
    "    test_df = prepare_test_df(test_idx, uids, iids, uid_map, iid_map, weights)\n",
    "print(f\"Took {test_time.interval:.1f} seconds for prepare and predict test data.\")  \n",
    "time_reco1 = test_time.interval"
   ]
  },
  {
   "cell_type": "markdown",
   "metadata": {},
   "source": [
    "And samples of the test dataframe:"
   ]
  },
  {
   "cell_type": "code",
   "execution_count": 23,
   "metadata": {},
   "outputs": [
    {
     "data": {
      "text/html": [
       "<div>\n",
       "<style scoped>\n",
       "    .dataframe tbody tr th:only-of-type {\n",
       "        vertical-align: middle;\n",
       "    }\n",
       "\n",
       "    .dataframe tbody tr th {\n",
       "        vertical-align: top;\n",
       "    }\n",
       "\n",
       "    .dataframe thead th {\n",
       "        text-align: right;\n",
       "    }\n",
       "</style>\n",
       "<table border=\"1\" class=\"dataframe\">\n",
       "  <thead>\n",
       "    <tr style=\"text-align: right;\">\n",
       "      <th></th>\n",
       "      <th>userID</th>\n",
       "      <th>itemID</th>\n",
       "      <th>rating</th>\n",
       "    </tr>\n",
       "  </thead>\n",
       "  <tbody>\n",
       "    <tr>\n",
       "      <th>921</th>\n",
       "      <td>685</td>\n",
       "      <td>25</td>\n",
       "      <td>3.0</td>\n",
       "    </tr>\n",
       "    <tr>\n",
       "      <th>737</th>\n",
       "      <td>1203</td>\n",
       "      <td>40</td>\n",
       "      <td>1.0</td>\n",
       "    </tr>\n",
       "    <tr>\n",
       "      <th>1454</th>\n",
       "      <td>422</td>\n",
       "      <td>37</td>\n",
       "      <td>1.0</td>\n",
       "    </tr>\n",
       "    <tr>\n",
       "      <th>2185</th>\n",
       "      <td>936</td>\n",
       "      <td>48</td>\n",
       "      <td>1.0</td>\n",
       "    </tr>\n",
       "    <tr>\n",
       "      <th>2006</th>\n",
       "      <td>1982</td>\n",
       "      <td>20</td>\n",
       "      <td>4.0</td>\n",
       "    </tr>\n",
       "  </tbody>\n",
       "</table>\n",
       "</div>"
      ],
      "text/plain": [
       "      userID  itemID  rating\n",
       "921      685      25     3.0\n",
       "737     1203      40     1.0\n",
       "1454     422      37     1.0\n",
       "2185     936      48     1.0\n",
       "2006    1982      20     4.0"
      ]
     },
     "execution_count": 23,
     "metadata": {},
     "output_type": "execute_result"
    }
   ],
   "source": [
    "test_df.sample(5)"
   ]
  },
  {
   "cell_type": "markdown",
   "metadata": {},
   "source": [
    "In addition, the predictions of all unseen user-item pairs (e.g. removing those seen in the training data) can be prepared as follows:"
   ]
  },
  {
   "cell_type": "code",
   "execution_count": 24,
   "metadata": {},
   "outputs": [
    {
     "name": "stdout",
     "output_type": "stream",
     "text": [
      "Took 20.7 seconds for prepare and predict all data.\n"
     ]
    }
   ],
   "source": [
    "with Timer() as test_time:\n",
    "    all_predictions = prepare_all_predictions(data, uid_map, iid_map, \n",
    "                                              interactions=train_interactions,\n",
    "                                              model=model1, \n",
    "                                              num_threads=NO_THREADS)\n",
    "print(f\"Took {test_time.interval:.1f} seconds for prepare and predict all data.\")\n",
    "time_reco2 = test_time.interval"
   ]
  },
  {
   "cell_type": "markdown",
   "metadata": {},
   "source": [
    "Samples of the `all_predictions` dataframe:"
   ]
  },
  {
   "cell_type": "code",
   "execution_count": 25,
   "metadata": {},
   "outputs": [
    {
     "data": {
      "text/html": [
       "<div>\n",
       "<style scoped>\n",
       "    .dataframe tbody tr th:only-of-type {\n",
       "        vertical-align: middle;\n",
       "    }\n",
       "\n",
       "    .dataframe tbody tr th {\n",
       "        vertical-align: top;\n",
       "    }\n",
       "\n",
       "    .dataframe thead th {\n",
       "        text-align: right;\n",
       "    }\n",
       "</style>\n",
       "<table border=\"1\" class=\"dataframe\">\n",
       "  <thead>\n",
       "    <tr style=\"text-align: right;\">\n",
       "      <th></th>\n",
       "      <th>userID</th>\n",
       "      <th>itemID</th>\n",
       "      <th>prediction</th>\n",
       "    </tr>\n",
       "  </thead>\n",
       "  <tbody>\n",
       "    <tr>\n",
       "      <th>0</th>\n",
       "      <td>1882</td>\n",
       "      <td>39</td>\n",
       "      <td>-5.792186</td>\n",
       "    </tr>\n",
       "    <tr>\n",
       "      <th>1</th>\n",
       "      <td>1882</td>\n",
       "      <td>25</td>\n",
       "      <td>-5.876668</td>\n",
       "    </tr>\n",
       "    <tr>\n",
       "      <th>2</th>\n",
       "      <td>1882</td>\n",
       "      <td>16</td>\n",
       "      <td>-5.335219</td>\n",
       "    </tr>\n",
       "    <tr>\n",
       "      <th>3</th>\n",
       "      <td>1882</td>\n",
       "      <td>27</td>\n",
       "      <td>-5.027680</td>\n",
       "    </tr>\n",
       "    <tr>\n",
       "      <th>4</th>\n",
       "      <td>1882</td>\n",
       "      <td>19</td>\n",
       "      <td>-4.729632</td>\n",
       "    </tr>\n",
       "  </tbody>\n",
       "</table>\n",
       "</div>"
      ],
      "text/plain": [
       "   userID  itemID  prediction\n",
       "0    1882      39   -5.792186\n",
       "1    1882      25   -5.876668\n",
       "2    1882      16   -5.335219\n",
       "3    1882      27   -5.027680\n",
       "4    1882      19   -4.729632"
      ]
     },
     "execution_count": 25,
     "metadata": {},
     "output_type": "execute_result"
    }
   ],
   "source": [
    "all_predictions.head(5)"
   ]
  },
  {
   "cell_type": "markdown",
   "metadata": {},
   "source": [
    "Note that the **raw prediction values from the LightFM model are for ranking purposes only**, they should not be used directly. The magnitude and sign of these values do not have any specific interpretation."
   ]
  },
  {
   "cell_type": "markdown",
   "metadata": {},
   "source": [
    "### 2.6 Model evaluation"
   ]
  },
  {
   "cell_type": "markdown",
   "metadata": {},
   "source": [
    "Once the evaluation data are ready, they can be passed into to the repo's evaluation methods as follows. The performance of the model will be tracked using both Precision@K and Recall@K.\n",
    "\n",
    "In addition, the results have also being compared with those computed from LightFM's own evaluation methods to ensure accuracy."
   ]
  },
  {
   "cell_type": "code",
   "execution_count": 28,
   "metadata": {},
   "outputs": [
    {
     "name": "stdout",
     "output_type": "stream",
     "text": [
      "------ Using Repo's evaluation methods ------\n",
      "Precision@K:\t0.035137\n",
      "Recall@K:\t0.204193\n",
      "\n",
      "------ Using LightFM evaluation methods ------\n",
      "Precision@K:\t0.035137\n",
      "Recall@K:\t0.204193\n"
     ]
    }
   ],
   "source": [
    "with Timer() as test_time:\n",
    "    eval_precision = precision_at_k(rating_true=test_df, \n",
    "                                rating_pred=all_predictions, k=K)\n",
    "    eval_recall = recall_at_k(test_df, all_predictions, k=K)\n",
    "time_reco3 = test_time.interval\n",
    "\n",
    "\n",
    "    \n",
    "print(\n",
    "    \"------ Using Repo's evaluation methods ------\",\n",
    "    f\"Precision@K:\\t{eval_precision:.6f}\",\n",
    "    f\"Recall@K:\\t{eval_recall:.6f}\",\n",
    "    \"\\n------ Using LightFM evaluation methods ------\",\n",
    "    f\"Precision@K:\\t{eval_precision:.6f}\",\n",
    "    f\"Recall@K:\\t{eval_recall:.6f}\", \n",
    "    sep='\\n')\n",
    "\n"
   ]
  },
  {
   "cell_type": "markdown",
   "metadata": {},
   "source": [
    "## 3. Movie recommender with LightFM using explicit feedbacks and additional item and user features"
   ]
  },
  {
   "cell_type": "markdown",
   "metadata": {},
   "source": [
    "As the LightFM was designed to incorporates both user and item metadata, the model can be extended to include additional features such as movie genres and user occupations."
   ]
  },
  {
   "cell_type": "markdown",
   "metadata": {},
   "source": [
    "### 3.1 Extract and prepare movie genres"
   ]
  },
  {
   "cell_type": "markdown",
   "metadata": {},
   "source": [
    "In this notebook, the movie's genres will be used as the item metadata. As the genres have already been loaded during the initial data import, it can be processed directly as follows:"
   ]
  },
  {
   "cell_type": "code",
   "execution_count": 29,
   "metadata": {},
   "outputs": [],
   "source": [
    "# split the genre based on the separator\n",
    "snack_category = [x.split('|') for x in data['category']]"
   ]
  },
  {
   "cell_type": "code",
   "execution_count": 30,
   "metadata": {},
   "outputs": [
    {
     "data": {
      "text/plain": [
       "['Bakery', 'Drinks', 'EggFood', 'Non Veg', 'SeaFood', 'Veg']"
      ]
     },
     "execution_count": 30,
     "metadata": {},
     "output_type": "execute_result"
    }
   ],
   "source": [
    "# retrieve the all the unique genres in the data\n",
    "all_snack_category = sorted(list(set(itertools.chain.from_iterable(snack_category))))\n",
    "# quick look at the all the genres within the data\n",
    "all_snack_category"
   ]
  },
  {
   "cell_type": "markdown",
   "metadata": {},
   "source": [
    "### 3.2 Retrieve and prepare movie genres"
   ]
  },
  {
   "cell_type": "markdown",
   "metadata": {},
   "source": [
    "Further user features can be included as part of the model fitting process. In this notebook, **only the occupation of each user will be included** but the feature list can be extended easily.\n"
   ]
  },
  {
   "cell_type": "markdown",
   "metadata": {},
   "source": [
    "#### 3.2.1 Retrieve and merge data"
   ]
  },
  {
   "cell_type": "markdown",
   "metadata": {},
   "source": [
    "The user features can be retrieved directly from the grouplens website and merged with the existing data as follows:"
   ]
  },
  {
   "cell_type": "code",
   "execution_count": 31,
   "metadata": {},
   "outputs": [
    {
     "data": {
      "text/html": [
       "<div>\n",
       "<style scoped>\n",
       "    .dataframe tbody tr th:only-of-type {\n",
       "        vertical-align: middle;\n",
       "    }\n",
       "\n",
       "    .dataframe tbody tr th {\n",
       "        vertical-align: top;\n",
       "    }\n",
       "\n",
       "    .dataframe thead th {\n",
       "        text-align: right;\n",
       "    }\n",
       "</style>\n",
       "<table border=\"1\" class=\"dataframe\">\n",
       "  <thead>\n",
       "    <tr style=\"text-align: right;\">\n",
       "      <th></th>\n",
       "      <th>userID</th>\n",
       "      <th>itemID</th>\n",
       "      <th>rating</th>\n",
       "      <th>category</th>\n",
       "      <th>occupation</th>\n",
       "    </tr>\n",
       "  </thead>\n",
       "  <tbody>\n",
       "    <tr>\n",
       "      <th>6671</th>\n",
       "      <td>1429</td>\n",
       "      <td>9</td>\n",
       "      <td>2</td>\n",
       "      <td>Drinks</td>\n",
       "      <td>sportsperson</td>\n",
       "    </tr>\n",
       "    <tr>\n",
       "      <th>8688</th>\n",
       "      <td>314</td>\n",
       "      <td>8</td>\n",
       "      <td>3</td>\n",
       "      <td>Drinks</td>\n",
       "      <td>doctor</td>\n",
       "    </tr>\n",
       "    <tr>\n",
       "      <th>2323</th>\n",
       "      <td>1073</td>\n",
       "      <td>20</td>\n",
       "      <td>1</td>\n",
       "      <td>Veg</td>\n",
       "      <td>scientist</td>\n",
       "    </tr>\n",
       "    <tr>\n",
       "      <th>9005</th>\n",
       "      <td>332</td>\n",
       "      <td>37</td>\n",
       "      <td>2</td>\n",
       "      <td>Veg</td>\n",
       "      <td>professor</td>\n",
       "    </tr>\n",
       "    <tr>\n",
       "      <th>9256</th>\n",
       "      <td>347</td>\n",
       "      <td>4</td>\n",
       "      <td>1</td>\n",
       "      <td>Non Veg</td>\n",
       "      <td>musician</td>\n",
       "    </tr>\n",
       "  </tbody>\n",
       "</table>\n",
       "</div>"
      ],
      "text/plain": [
       "      userID  itemID  rating category    occupation\n",
       "6671    1429       9       2   Drinks  sportsperson\n",
       "8688     314       8       3   Drinks        doctor\n",
       "2323    1073      20       1      Veg     scientist\n",
       "9005     332      37       2      Veg     professor\n",
       "9256     347       4       1  Non Veg      musician"
      ]
     },
     "execution_count": 31,
     "metadata": {},
     "output_type": "execute_result"
    }
   ],
   "source": [
    "import pandas as pd\n",
    "#read CSV1\n",
    "csvnew = pd.read_csv('combo.csv', delimiter=\",\")\n",
    "csvnew.sample(5)"
   ]
  },
  {
   "cell_type": "markdown",
   "metadata": {},
   "source": [
    "#### 3.2.2 Extract and prepare user occupations"
   ]
  },
  {
   "cell_type": "code",
   "execution_count": 32,
   "metadata": {},
   "outputs": [],
   "source": [
    "# retrieve all the unique occupations in the data\n",
    "all_occupations = sorted(list(set(csvnew['occupation'])))\n",
    "#all_itemNames = sorted(list(set(new_data['itemName'])))"
   ]
  },
  {
   "cell_type": "code",
   "execution_count": 33,
   "metadata": {},
   "outputs": [
    {
     "data": {
      "text/plain": [
       "['architecturer',\n",
       " 'dancer',\n",
       " 'doctor',\n",
       " 'educator',\n",
       " 'engineer',\n",
       " 'musician',\n",
       " 'professor',\n",
       " 'scientist',\n",
       " 'sportsperson',\n",
       " 'student']"
      ]
     },
     "execution_count": 33,
     "metadata": {},
     "output_type": "execute_result"
    }
   ],
   "source": [
    "all_occupations"
   ]
  },
  {
   "cell_type": "markdown",
   "metadata": {},
   "source": [
    "### 3.3 Prepare data and features"
   ]
  },
  {
   "cell_type": "markdown",
   "metadata": {},
   "source": [
    "Similar to the previous model, the data is required to be converted into a `Dataset` instance and then create a user/item id mapping with the `fit` method."
   ]
  },
  {
   "cell_type": "code",
   "execution_count": 34,
   "metadata": {},
   "outputs": [],
   "source": [
    "dataset2 = Dataset()\n",
    "dataset2.fit(data['userID'], \n",
    "            data['itemID'], \n",
    "            item_features=all_snack_category,\n",
    "            user_features=all_occupations)"
   ]
  },
  {
   "cell_type": "markdown",
   "metadata": {},
   "source": [
    "The movie genres are then converted into a item feature matrix using the `build_item_features` method as follows:"
   ]
  },
  {
   "cell_type": "code",
   "execution_count": 35,
   "metadata": {},
   "outputs": [],
   "source": [
    "item_features = dataset2.build_item_features(\n",
    "    (x, y) for x,y in zip(data.itemID, snack_category))"
   ]
  },
  {
   "cell_type": "markdown",
   "metadata": {},
   "source": [
    "The user occupations are then converted into an user feature matrix using the `build_user_features` method as follows:"
   ]
  },
  {
   "cell_type": "code",
   "execution_count": 36,
   "metadata": {},
   "outputs": [],
   "source": [
    "user_features = dataset2.build_user_features(\n",
    "    (x, [y]) for x,y in zip(csvnew.userID, csvnew['occupation']))"
   ]
  },
  {
   "cell_type": "markdown",
   "metadata": {},
   "source": [
    "Once the item and user features matrices have been completed, the next steps are similar as before, which is to build the interaction matrix and split the interactions into train and test sets as follows:"
   ]
  },
  {
   "cell_type": "code",
   "execution_count": 37,
   "metadata": {},
   "outputs": [],
   "source": [
    "(interactions2, weights2) = dataset2.build_interactions(data.iloc[:, 0:3].values)\n",
    "\n",
    "train_interactions2, test_interactions2 = cross_validation.random_train_test_split(\n",
    "    interactions2, test_percentage=TEST_PERCENTAGE,\n",
    "    random_state=np.random.RandomState(SEEDNO))"
   ]
  },
  {
   "cell_type": "markdown",
   "metadata": {},
   "source": [
    "### 3.3 Fit the LightFM model with additional user and item features"
   ]
  },
  {
   "cell_type": "markdown",
   "metadata": {},
   "source": [
    "The parameters of the second model will be similar to the first model to facilitates comparison.\n",
    "\n",
    "The model performance at each epoch is also tracked by the same metrics as before."
   ]
  },
  {
   "cell_type": "code",
   "execution_count": 38,
   "metadata": {},
   "outputs": [],
   "source": [
    "model2 = LightFM(loss='warp', no_components=NO_COMPONENTS, \n",
    "                 learning_rate=LEARNING_RATE, \n",
    "                 item_alpha=ITEM_ALPHA,\n",
    "                 user_alpha=USER_ALPHA,\n",
    "                 random_state=np.random.RandomState(SEEDNO))"
   ]
  },
  {
   "cell_type": "markdown",
   "metadata": {},
   "source": [
    "The LightFM model can then be fitted:"
   ]
  },
  {
   "cell_type": "code",
   "execution_count": 39,
   "metadata": {},
   "outputs": [],
   "source": [
    "model2.fit(interactions=train_interactions2,\n",
    "           user_features=user_features,\n",
    "           item_features=item_features,\n",
    "           epochs=NO_EPOCHS);"
   ]
  },
  {
   "cell_type": "markdown",
   "metadata": {},
   "source": [
    "### 3.4 Prepare model evaluation data"
   ]
  },
  {
   "cell_type": "markdown",
   "metadata": {},
   "source": [
    "Similar to the previous model, the evaluation data needs to be prepared in order to get them into a format consumable with this repo's evaluation methods.\n",
    "\n",
    "Firstly the train/test indices and id mappings are extracted using the new interations matrix as follows:"
   ]
  },
  {
   "cell_type": "code",
   "execution_count": 40,
   "metadata": {},
   "outputs": [],
   "source": [
    "uids, iids, interaction_data = cross_validation._shuffle(\n",
    "    interactions2.row, interactions2.col, interactions2.data, \n",
    "    random_state=np.random.RandomState(SEEDNO))\n",
    "\n",
    "uid_map, ufeature_map, iid_map, ifeature_map = dataset2.mapping()"
   ]
  },
  {
   "cell_type": "markdown",
   "metadata": {},
   "source": [
    "The test dataframe is then constructed as follows:"
   ]
  },
  {
   "cell_type": "code",
   "execution_count": 41,
   "metadata": {},
   "outputs": [
    {
     "name": "stdout",
     "output_type": "stream",
     "text": [
      "Took 0.2 seconds for prepare and predict test data.\n"
     ]
    }
   ],
   "source": [
    "with Timer() as test_time:\n",
    "    test_df2 = prepare_test_df(test_idx, uids, iids, uid_map, iid_map, weights2)\n",
    "print(f\"Took {test_time.interval:.1f} seconds for prepare and predict test data.\")  "
   ]
  },
  {
   "cell_type": "markdown",
   "metadata": {},
   "source": [
    "The predictions of all unseen user-item pairs can be prepared as follows:"
   ]
  },
  {
   "cell_type": "code",
   "execution_count": 42,
   "metadata": {},
   "outputs": [
    {
     "name": "stdout",
     "output_type": "stream",
     "text": [
      "Took 10.3 seconds for prepare and predict all data.\n"
     ]
    }
   ],
   "source": [
    "with Timer() as test_time:\n",
    "    all_predictions2 = prepare_all_predictions(data, uid_map, iid_map, \n",
    "                                              interactions=train_interactions2,\n",
    "                                               user_features=user_features,\n",
    "                                               item_features=item_features,\n",
    "                                               model=model2,\n",
    "                                               num_threads=NO_THREADS)\n",
    "\n",
    "print(f\"Took {test_time.interval:.1f} seconds for prepare and predict all data.\")"
   ]
  },
  {
   "cell_type": "markdown",
   "metadata": {},
   "source": [
    "### 3.5 Model evaluation and comparison"
   ]
  },
  {
   "cell_type": "markdown",
   "metadata": {},
   "source": [
    "The predictive performance of the new model can be computed and compared with the previous model (which used only the explicit rating) as follows:"
   ]
  },
  {
   "cell_type": "code",
   "execution_count": 43,
   "metadata": {},
   "outputs": [
    {
     "name": "stdout",
     "output_type": "stream",
     "text": [
      "------ Using only explicit ratings ------\n",
      "Precision@K:\t0.035137\n",
      "Recall@K:\t0.204193\n",
      "\n",
      "------ Using both implicit and explicit ratings ------\n",
      "Precision@K:\t0.034786\n",
      "Recall@K:\t0.197470\n"
     ]
    }
   ],
   "source": [
    "eval_precision2 = precision_at_k(rating_true=test_df2, \n",
    "                                rating_pred=all_predictions2, k=K)\n",
    "eval_recall2 = recall_at_k(test_df2, all_predictions2, k=K)\n",
    "\n",
    "print(\n",
    "    \"------ Using only explicit ratings ------\",\n",
    "    f\"Precision@K:\\t{eval_precision:.6f}\",\n",
    "    f\"Recall@K:\\t{eval_recall:.6f}\",\n",
    "    \"\\n------ Using both implicit and explicit ratings ------\",\n",
    "    f\"Precision@K:\\t{eval_precision2:.6f}\",\n",
    "    f\"Recall@K:\\t{eval_recall2:.6f}\",\n",
    "    sep='\\n')"
   ]
  },
  {
   "cell_type": "markdown",
   "metadata": {},
   "source": [
    "The new model which used both implicit and explicit data performed consistently better than the previous model which used only the explicit data, thus highlighting the benefits of including such additional features to the model."
   ]
  },
  {
   "cell_type": "markdown",
   "metadata": {},
   "source": [
    "### 3.6 Evaluation metrics comparison"
   ]
  },
  {
   "cell_type": "markdown",
   "metadata": {},
   "source": [
    "Note that the evaluation approaches here are solely for demonstration purposes only.\n",
    "\n",
    "If the reader were using the LightFM package and/or its models, the LightFM's built-in evaluation methods are much more efficient and are the recommended approach for production usage as they are designed and optimised to work with the package.\n",
    "\n",
    "As a comparison, the times recorded to compute Precision@K and Recall@K for model1 are shown as follows:"
   ]
  },
  {
   "cell_type": "code",
   "execution_count": 45,
   "metadata": {},
   "outputs": [
    {
     "name": "stdout",
     "output_type": "stream",
     "text": [
      "------ Using Repo's evaluation methods ------\n",
      "Time [sec]:\t21.1\n",
      "\n",
      "------ Using Reco3 evaluation methods ------\n",
      "Time [sec]:\t0.2\n"
     ]
    }
   ],
   "source": [
    "print(\n",
    "    \"------ Using Repo's evaluation methods ------\",\n",
    "    f\"Time [sec]:\\t{(time_reco1+time_reco2+time_reco3):.1f}\",\n",
    "    \"\\n------ Using Reco3 evaluation methods ------\",\n",
    "    f\"Time [sec]:\\t{time_reco3:.1f}\",\n",
    "    sep='\\n')"
   ]
  },
  {
   "cell_type": "markdown",
   "metadata": {},
   "source": [
    "## 4. Evaluate model fitting process"
   ]
  },
  {
   "cell_type": "markdown",
   "metadata": {},
   "source": [
    "In addition to the inclusion of both implicit and explicit data, the model fitting process can also be monitored in order to determine whether the model is being trained properly. \n",
    "\n",
    "This notebook also includes a `track_model_metrics` method which plots the model's metrics e.g. Precision@K and Recall@K as model fitting progresses.\n",
    "\n",
    "For the first model (using only explicit data), the model fitting progress is shown as follows:"
   ]
  },
  {
   "cell_type": "code",
   "execution_count": 46,
   "metadata": {},
   "outputs": [
    {
     "data": {
      "image/png": "[encoded data removed]",
      "text/plain": [
       "<Figure size 491.375x216 with 2 Axes>"
      ]
     },
     "metadata": {
      "needs_background": "light"
     },
     "output_type": "display_data"
    }
   ],
   "source": [
    "output1, _ = track_model_metrics(model=model1, train_interactions=train_interactions, \n",
    "                              test_interactions=test_interactions, k=K,\n",
    "                              no_epochs=NO_EPOCHS, no_threads=NO_THREADS)"
   ]
  },
  {
   "cell_type": "markdown",
   "metadata": {},
   "source": [
    "The second model (with both implicit and explicit data) fitting progress:"
   ]
  },
  {
   "cell_type": "code",
   "execution_count": 47,
   "metadata": {},
   "outputs": [
    {
     "data": {
      "image/png": "[encoded data removed]",
      "text/plain": [
       "<Figure size 491.375x216 with 2 Axes>"
      ]
     },
     "metadata": {
      "needs_background": "light"
     },
     "output_type": "display_data"
    }
   ],
   "source": [
    "output2, _ = track_model_metrics(model=model2, train_interactions=train_interactions2, \n",
    "                              test_interactions=test_interactions2, k=K,\n",
    "                              no_epochs=NO_EPOCHS, no_threads=NO_THREADS, \n",
    "                              item_features=item_features,\n",
    "                              user_features=user_features)"
   ]
  },
  {
   "cell_type": "markdown",
   "metadata": {},
   "source": [
    "These show slightly different behaviour with the two approaches, the reader can then tune the hyperparameters to improve the model fitting process.\n"
   ]
  },
  {
   "cell_type": "markdown",
   "metadata": {},
   "source": [
    "### 4.1 Performance comparison"
   ]
  },
  {
   "cell_type": "markdown",
   "metadata": {},
   "source": [
    "In addition, the model's performance metrics (based on the test dataset) can be plotted together to facilitate easier comparison as follows:"
   ]
  },
  {
   "cell_type": "code",
   "execution_count": 48,
   "metadata": {},
   "outputs": [
    {
     "data": {
      "image/png": "[encoded data removed]",
      "text/plain": [
       "<Figure size 432x288 with 1 Axes>"
      ]
     },
     "metadata": {
      "needs_background": "light"
     },
     "output_type": "display_data"
    },
    {
     "data": {
      "image/png": "[encoded data removed]",
      "text/plain": [
       "<Figure size 432x288 with 1 Axes>"
      ]
     },
     "metadata": {
      "needs_background": "light"
     },
     "output_type": "display_data"
    }
   ],
   "source": [
    "for i in ['Precision', 'Recall']:\n",
    "    sns.set_palette(\"Set2\")\n",
    "    plt.figure()\n",
    "    sns.scatterplot(x=\"epoch\", y=\"value\", hue='data',\n",
    "                data=compare_metric(df_list = [output1, output2], metric=i)\n",
    "               ).set_title(f'{i} comparison using test set');"
   ]
  },
  {
   "cell_type": "markdown",
   "metadata": {},
   "source": [
    "Referring to the figures above, it is rather obvious that the number of epochs is too low as the model's performances have not stabilised. Reader can decide on the number of epochs and other hyperparameters to adjust suit the application.\n",
    "\n",
    "As stated previously, it is interesting to see model2 (using both implicit and explicit data) performed consistently better than model1 (using only explicit ratings). "
   ]
  },
  {
   "cell_type": "markdown",
   "metadata": {},
   "source": [
    "## 5. Similar users and items"
   ]
  },
  {
   "cell_type": "markdown",
   "metadata": {},
   "source": [
    "As the LightFM package operates based on latent embeddings, these can be retrieved once the model has been fitted to assess user-user and/or item-item affinity."
   ]
  },
  {
   "cell_type": "markdown",
   "metadata": {},
   "source": [
    "### 5.1 User affinity"
   ]
  },
  {
   "cell_type": "markdown",
   "metadata": {},
   "source": [
    "The user-user affinity can be retrieved with the `get_user_representations` method from the fitted model as follows:"
   ]
  },
  {
   "cell_type": "code",
   "execution_count": 49,
   "metadata": {},
   "outputs": [
    {
     "data": {
      "text/plain": [
       "array([[-0.02974548,  0.13362125,  0.01469166, ..., -0.12555502,\n",
       "        -0.15871574, -0.14754163],\n",
       "       [-0.01355443,  0.1286718 , -0.01955781, ...,  0.1695354 ,\n",
       "         0.07169569,  0.01830241],\n",
       "       [ 0.02001765, -0.20841312,  0.20336077, ...,  0.07847667,\n",
       "        -0.00645639, -0.11383063],\n",
       "       ...,\n",
       "       [-0.22921169,  0.14460745,  0.27031246, ..., -0.0493646 ,\n",
       "        -0.19700459, -0.24988446],\n",
       "       [-0.05310027, -0.1744692 ,  0.4407758 , ...,  0.17230359,\n",
       "         0.1004099 , -0.08691695],\n",
       "       [ 0.09033205,  0.1312466 , -0.19402936, ..., -0.12504409,\n",
       "        -0.08688013, -0.1673107 ]], dtype=float32)"
      ]
     },
     "execution_count": 49,
     "metadata": {},
     "output_type": "execute_result"
    }
   ],
   "source": [
    "_, user_embeddings = model2.get_user_representations(features=user_features)\n",
    "user_embeddings"
   ]
  },
  {
   "cell_type": "markdown",
   "metadata": {},
   "source": [
    "In order to retrieve the top N similar users, we can use the `similar_users` from `reco_utils`. For example, if we want to choose top 10 users most similar to the user 1:"
   ]
  },
  {
   "cell_type": "code",
   "execution_count": 50,
   "metadata": {},
   "outputs": [
    {
     "data": {
      "text/html": [
       "<div>\n",
       "<style scoped>\n",
       "    .dataframe tbody tr th:only-of-type {\n",
       "        vertical-align: middle;\n",
       "    }\n",
       "\n",
       "    .dataframe tbody tr th {\n",
       "        vertical-align: top;\n",
       "    }\n",
       "\n",
       "    .dataframe thead th {\n",
       "        text-align: right;\n",
       "    }\n",
       "</style>\n",
       "<table border=\"1\" class=\"dataframe\">\n",
       "  <thead>\n",
       "    <tr style=\"text-align: right;\">\n",
       "      <th></th>\n",
       "      <th>userID</th>\n",
       "      <th>score</th>\n",
       "    </tr>\n",
       "  </thead>\n",
       "  <tbody>\n",
       "    <tr>\n",
       "      <th>0</th>\n",
       "      <td>219</td>\n",
       "      <td>0.950485</td>\n",
       "    </tr>\n",
       "    <tr>\n",
       "      <th>1</th>\n",
       "      <td>1275</td>\n",
       "      <td>0.924122</td>\n",
       "    </tr>\n",
       "    <tr>\n",
       "      <th>2</th>\n",
       "      <td>396</td>\n",
       "      <td>0.908587</td>\n",
       "    </tr>\n",
       "    <tr>\n",
       "      <th>3</th>\n",
       "      <td>478</td>\n",
       "      <td>0.901460</td>\n",
       "    </tr>\n",
       "    <tr>\n",
       "      <th>4</th>\n",
       "      <td>1857</td>\n",
       "      <td>0.891283</td>\n",
       "    </tr>\n",
       "    <tr>\n",
       "      <th>5</th>\n",
       "      <td>480</td>\n",
       "      <td>0.885426</td>\n",
       "    </tr>\n",
       "    <tr>\n",
       "      <th>6</th>\n",
       "      <td>921</td>\n",
       "      <td>0.844836</td>\n",
       "    </tr>\n",
       "    <tr>\n",
       "      <th>7</th>\n",
       "      <td>216</td>\n",
       "      <td>0.839836</td>\n",
       "    </tr>\n",
       "    <tr>\n",
       "      <th>8</th>\n",
       "      <td>638</td>\n",
       "      <td>0.828526</td>\n",
       "    </tr>\n",
       "    <tr>\n",
       "      <th>9</th>\n",
       "      <td>127</td>\n",
       "      <td>0.816388</td>\n",
       "    </tr>\n",
       "  </tbody>\n",
       "</table>\n",
       "</div>"
      ],
      "text/plain": [
       "   userID     score\n",
       "0     219  0.950485\n",
       "1    1275  0.924122\n",
       "2     396  0.908587\n",
       "3     478  0.901460\n",
       "4    1857  0.891283\n",
       "5     480  0.885426\n",
       "6     921  0.844836\n",
       "7     216  0.839836\n",
       "8     638  0.828526\n",
       "9     127  0.816388"
      ]
     },
     "execution_count": 50,
     "metadata": {},
     "output_type": "execute_result"
    }
   ],
   "source": [
    "similar_users(user_id=1, user_features=user_features, \n",
    "            model=model2)"
   ]
  },
  {
   "cell_type": "markdown",
   "metadata": {},
   "source": [
    "### 5.2 Item affinity"
   ]
  },
  {
   "cell_type": "markdown",
   "metadata": {},
   "source": [
    "Similar to the user affinity, the item-item affinity can be retrieved with the `get_item_representations` method using the fitted model."
   ]
  },
  {
   "cell_type": "code",
   "execution_count": 52,
   "metadata": {
    "scrolled": true
   },
   "outputs": [
    {
     "data": {
      "text/plain": [
       "array([[-1.2779155 , -2.17041   ,  0.21881385, -2.3424869 , -2.730267  ,\n",
       "        -2.0225549 ,  1.0715013 , -2.987382  ,  0.11873934,  1.5918509 ,\n",
       "        -2.2983644 ,  2.5346923 , -0.9301003 , -3.78875   , -1.5787847 ,\n",
       "         1.3261718 , -0.78089285, -1.4162772 , -2.494765  , -1.3398958 ],\n",
       "       [ 0.91899884,  0.3040301 , -1.4868786 , -0.09228779, -0.2143421 ,\n",
       "         0.27990606,  0.16683619,  0.5601561 ,  1.0558313 ,  1.9122062 ,\n",
       "         0.51160896, -0.50601095, -1.8541884 ,  0.19238348,  0.00711856,\n",
       "        -0.6739319 ,  1.1515119 , -0.05499447,  0.11451154,  0.65424806],\n",
       "       [ 0.67299086, -0.9784672 ,  1.8631854 , -0.4055122 ,  0.3979986 ,\n",
       "        -0.12226643,  0.22642021,  1.2208852 , -0.28067392, -0.48121753,\n",
       "        -0.2979444 , -1.5554268 ,  0.5499207 , -0.7731006 , -0.5367456 ,\n",
       "         0.02486317,  0.75247276,  0.9713467 ,  0.49239358, -0.17741258],\n",
       "       [ 0.24880514,  0.64683956, -0.8711915 ,  0.835449  , -0.11902016,\n",
       "        -0.4066274 ,  0.47902715, -0.5886082 , -0.19757438, -1.0406269 ,\n",
       "        -0.6803596 , -0.5719173 ,  0.99370956,  2.6070347 , -0.93634033,\n",
       "        -0.32490775,  0.231324  , -0.22051756,  0.01520369, -0.64268374],\n",
       "       [ 0.24906418,  0.64691293, -0.86780274,  0.83400196, -0.11732767,\n",
       "        -0.40524653,  0.47837827, -0.58472985, -0.19758256, -1.0411363 ,\n",
       "        -0.6793999 , -0.57502216,  0.9940717 ,  2.605804  , -0.93494385,\n",
       "        -0.32431936,  0.23265776, -0.21918724,  0.01600768, -0.6421302 ],\n",
       "       [-1.0417371 , -1.6091952 , -1.3215516 ,  1.8557606 ,  1.2654417 ,\n",
       "         0.47093612, -2.3048894 ,  0.2905279 ,  0.9255668 , -1.5046332 ,\n",
       "         1.3084502 ,  3.0330067 ,  1.7936765 , -1.7506514 , -0.19056055,\n",
       "         0.8665553 , -0.68856233, -0.5998877 ,  0.74659324,  1.7558612 ],\n",
       "       [ 0.6745092 , -0.9785098 ,  1.8671461 , -0.40661094,  0.39891028,\n",
       "        -0.12279198,  0.22813432,  1.2222154 , -0.2823752 , -0.481969  ,\n",
       "        -0.29879692, -1.5573518 ,  0.5497052 , -0.77112323, -0.5362167 ,\n",
       "         0.02449517,  0.75252944,  0.97208667,  0.4924238 , -0.17803076],\n",
       "       [-1.0406263 , -1.6101475 , -1.3210326 ,  1.854505  ,  1.2643038 ,\n",
       "         0.47080702, -2.3041074 ,  0.2894888 ,  0.9259398 , -1.5049473 ,\n",
       "         1.308193  ,  3.033441  ,  1.79415   , -1.7521514 , -0.19090039,\n",
       "         0.86530787, -0.6887338 , -0.5995997 ,  0.7457438 ,  1.7556098 ],\n",
       "       [ 0.9200627 ,  0.30273288, -1.4860064 , -0.09138215, -0.21423063,\n",
       "         0.2789164 ,  0.16716506,  0.5620772 ,  1.0567646 ,  1.9127754 ,\n",
       "         0.5111365 , -0.5065603 , -1.8542417 ,  0.19208446,  0.00531126,\n",
       "        -0.67439765,  1.1532829 , -0.0548044 ,  0.1149571 ,  0.65436965],\n",
       "       [ 0.24986182,  0.6475151 , -0.8700658 ,  0.83620065, -0.11917467,\n",
       "        -0.40745524,  0.48007774, -0.58694863, -0.19595551, -1.041183  ,\n",
       "        -0.6810302 , -0.5744312 ,  0.99425006,  2.6093707 , -0.9370411 ,\n",
       "        -0.32605138,  0.23293042, -0.22139609,  0.01420079, -0.6428226 ],\n",
       "       [ 0.67480564, -0.97879606,  1.8647864 , -0.40723073,  0.39807248,\n",
       "        -0.12145774,  0.2269748 ,  1.2244524 , -0.27927136, -0.48034638,\n",
       "        -0.29672408, -1.5565604 ,  0.5485877 , -0.77379936, -0.5351754 ,\n",
       "         0.02288588,  0.75369275,  0.9715644 ,  0.4917146 , -0.17538111],\n",
       "       [ 0.6733784 , -0.97675276,  1.8637639 , -0.40693608,  0.39764562,\n",
       "        -0.12254751,  0.22780901,  1.2226641 , -0.27977547, -0.48133695,\n",
       "        -0.29745126, -1.556176  ,  0.5493932 , -0.7712055 , -0.53513986,\n",
       "         0.02419977,  0.7524132 ,  0.97076225,  0.49110276, -0.17703044],\n",
       "       [-0.9814633 ,  2.4099817 ,  1.1877035 , -0.93014824,  0.15755293,\n",
       "         0.9754154 ,  0.18720156, -0.42539564, -1.7159356 ,  0.26324016,\n",
       "         0.87622285,  0.11646108, -1.0283989 ,  0.12300915,  2.9998071 ,\n",
       "        -0.1263698 , -2.0395663 ,  0.06695436,  0.03853211, -0.38285652],\n",
       "       [ 0.25126833,  0.6461848 , -0.8695607 ,  0.8373108 , -0.11791748,\n",
       "        -0.40795088,  0.4795846 , -0.5867286 , -0.1961157 , -1.0427412 ,\n",
       "        -0.68186647, -0.5755365 ,  0.99589795,  2.610549  , -0.93889517,\n",
       "        -0.32564446,  0.23384628, -0.2205659 ,  0.01555911, -0.6428468 ],\n",
       "       [ 0.91902506,  0.30383214, -1.4869539 , -0.09167666, -0.21449625,\n",
       "         0.27972743,  0.16656746,  0.5611533 ,  1.0576919 ,  1.9134095 ,\n",
       "         0.5122483 , -0.5046632 , -1.8552314 ,  0.19139919,  0.00699187,\n",
       "        -0.6745664 ,  1.1516764 , -0.05615916,  0.11386452,  0.6550569 ],\n",
       "       [ 0.6745795 , -0.97904646,  1.865422  , -0.40605792,  0.39914382,\n",
       "        -0.12168907,  0.22645846,  1.2241683 , -0.27972323, -0.4800448 ,\n",
       "        -0.29741117, -1.5571392 ,  0.5481968 , -0.7719217 , -0.5362131 ,\n",
       "         0.02436467,  0.7543436 ,  0.97129893,  0.4925573 , -0.1760743 ],\n",
       "       [-1.0411344 , -1.6089993 , -1.3216138 ,  1.8556225 ,  1.2661691 ,\n",
       "         0.47188744, -2.305632  ,  0.29185808,  0.92597204, -1.5049291 ,\n",
       "         1.3098631 ,  3.0326407 ,  1.7936193 , -1.7518145 , -0.18906066,\n",
       "         0.8663949 , -0.6892768 , -0.5986193 ,  0.7474626 ,  1.7566286 ],\n",
       "       [ 0.6743872 , -0.98013777,  1.8677409 , -0.4061908 ,  0.39977577,\n",
       "        -0.12222611,  0.2265595 ,  1.2233256 , -0.28147954, -0.48286   ,\n",
       "        -0.29803774, -1.556411  ,  0.5509267 , -0.7730084 , -0.536871  ,\n",
       "         0.02469395,  0.75264245,  0.97222006,  0.49321464, -0.17660871],\n",
       "       [-0.9818198 ,  2.409086  ,  1.1869555 , -0.9295138 ,  0.15659899,\n",
       "         0.97426873,  0.18783298, -0.42751953, -1.7160817 ,  0.26284492,\n",
       "         0.8740189 ,  0.11641033, -1.0275055 ,  0.12326904,  2.9964023 ,\n",
       "        -0.12562308, -2.0385745 ,  0.06685105,  0.0386292 , -0.3845523 ],\n",
       "       [ 0.24904203,  0.6471182 , -0.87103933,  0.8358643 , -0.11781441,\n",
       "        -0.40626317,  0.4792285 , -0.5861607 , -0.19597471, -1.0419589 ,\n",
       "        -0.6803482 , -0.57468575,  0.99508345,  2.6094317 , -0.9378574 ,\n",
       "        -0.32435042,  0.23380768, -0.21978948,  0.0162918 , -0.6415355 ],\n",
       "       [ 0.9198705 ,  0.30241248, -1.4842678 , -0.09240121, -0.21298417,\n",
       "         0.28034142,  0.16598529,  0.56282145,  1.0578164 ,  1.9122926 ,\n",
       "         0.5118123 , -0.5067945 , -1.8536483 ,  0.19058308,  0.00640632,\n",
       "        -0.6735877 ,  1.153192  , -0.0538997 ,  0.11545116,  0.6549697 ],\n",
       "       [ 0.2487336 ,  0.64753085, -0.87143475,  0.8375292 , -0.11783145,\n",
       "        -0.40716588,  0.47907624, -0.58647746, -0.19673213, -1.0443151 ,\n",
       "        -0.68066156, -0.5727701 ,  0.99706846,  2.6097193 , -0.9375691 ,\n",
       "        -0.32498366,  0.23147471, -0.22089522,  0.01568304, -0.6423352 ],\n",
       "       [ 0.92078173,  0.30308923, -1.487815  , -0.09332337, -0.21424954,\n",
       "         0.2803611 ,  0.16757135,  0.5614676 ,  1.0588278 ,  1.9146721 ,\n",
       "         0.5119724 , -0.50529045, -1.8561993 ,  0.19114575,  0.00557425,\n",
       "        -0.6749866 ,  1.153902  , -0.05417894,  0.11501909,  0.65575385],\n",
       "       [ 0.92021024,  0.30326763, -1.4873048 , -0.09311698, -0.21376936,\n",
       "         0.2809271 ,  0.1662556 ,  0.5628896 ,  1.0588007 ,  1.9136267 ,\n",
       "         0.5134471 , -0.50405216, -1.8553209 ,  0.18938385,  0.00779055,\n",
       "        -0.67533576,  1.1525868 , -0.05505251,  0.11431071,  0.6570458 ],\n",
       "       [ 0.24845102,  0.64861697, -0.870224  ,  0.8354516 , -0.11949994,\n",
       "        -0.40787873,  0.4810072 , -0.588088  , -0.19917892, -1.0437398 ,\n",
       "        -0.68218446, -0.57539904,  0.9964458 ,  2.6097739 , -0.93678606,\n",
       "        -0.32498997,  0.2309773 , -0.22005843,  0.01453963, -0.6445144 ],\n",
       "       [ 0.24880886,  0.64686453, -0.8696091 ,  0.83502996, -0.11728175,\n",
       "        -0.4066861 ,  0.4793387 , -0.58484393, -0.19840626, -1.0412333 ,\n",
       "        -0.68035287, -0.57601064,  0.9941896 ,  2.607914  , -0.9361193 ,\n",
       "        -0.3236191 ,  0.23305142, -0.21875167,  0.01675183, -0.6423701 ],\n",
       "       [ 0.67418694, -0.97856957,  1.8666004 , -0.40781367,  0.39825845,\n",
       "        -0.12202759,  0.22780128,  1.2226982 , -0.28155294, -0.48009914,\n",
       "        -0.298298  , -1.558683  ,  0.54826546, -0.7720342 , -0.5356163 ,\n",
       "         0.02469479,  0.75396925,  0.9714995 ,  0.49175516, -0.17724225],\n",
       "       [ 0.9217158 ,  0.30342636, -1.4873015 , -0.09378231, -0.21451545,\n",
       "         0.28017205,  0.16775176,  0.56212634,  1.0587198 ,  1.9160541 ,\n",
       "         0.5123418 , -0.506147  , -1.8575604 ,  0.19111615,  0.00648395,\n",
       "        -0.6757369 ,  1.1542791 , -0.05440462,  0.11454252,  0.65569365],\n",
       "       [ 0.9216414 ,  0.30132687, -1.4870872 , -0.09380768, -0.21297455,\n",
       "         0.2812118 ,  0.16614415,  0.5660047 ,  1.060656  ,  1.9147633 ,\n",
       "         0.5138734 , -0.5054016 , -1.8562368 ,  0.18889709,  0.00658901,\n",
       "        -0.67538005,  1.1555656 , -0.05387077,  0.1154426 ,  0.6584935 ],\n",
       "       [ 0.6736825 , -0.9789325 ,  1.8639537 , -0.40717813,  0.39842474,\n",
       "        -0.12141069,  0.22629844,  1.2235285 , -0.2787492 , -0.4814127 ,\n",
       "        -0.29669613, -1.5549933 ,  0.54980916, -0.7742341 , -0.53559446,\n",
       "         0.02394012,  0.753555  ,  0.97113645,  0.49171323, -0.17503732],\n",
       "       [-0.98086303,  2.4079158 ,  1.1860439 , -0.9297906 ,  0.15577242,\n",
       "         0.9730505 ,  0.1882341 , -0.42708686, -1.7153684 ,  0.2643728 ,\n",
       "         0.8733167 ,  0.11590054, -1.0281973 ,  0.12309454,  2.9955752 ,\n",
       "        -0.12549756, -2.037713  ,  0.06739981,  0.03848241, -0.38448885],\n",
       "       [ 0.9196391 ,  0.30182776, -1.4849502 , -0.09066696, -0.21238776,\n",
       "         0.27990368,  0.16543277,  0.5620358 ,  1.0574639 ,  1.9111959 ,\n",
       "         0.5121592 , -0.5041266 , -1.8527529 ,  0.19101411,  0.00585342,\n",
       "        -0.6740144 ,  1.1519982 , -0.0553024 ,  0.11523394,  0.6553297 ],\n",
       "       [ 0.6728992 , -0.977665  ,  1.8662945 , -0.40775645,  0.39891618,\n",
       "        -0.12141391,  0.22735593,  1.2237555 , -0.2806599 , -0.48189783,\n",
       "        -0.29765627, -1.557175  ,  0.54976785, -0.7717484 , -0.53502357,\n",
       "         0.02475807,  0.75281835,  0.9716246 ,  0.49204245, -0.17665033],\n",
       "       [ 0.25103772,  0.64642775, -0.87198967,  0.83584684, -0.11915511,\n",
       "        -0.40710127,  0.47868553, -0.5849015 , -0.19522132, -1.0382801 ,\n",
       "        -0.67963755, -0.5767215 ,  0.99152625,  2.607608  , -0.9366135 ,\n",
       "        -0.3254946 ,  0.235274  , -0.22045743,  0.01536299, -0.64066786],\n",
       "       [ 0.67414343, -0.9770304 ,  1.8626572 , -0.4050624 ,  0.39818323,\n",
       "        -0.12157398,  0.22661223,  1.2218091 , -0.27966064, -0.47947866,\n",
       "        -0.2968677 , -1.5554425 ,  0.54742235, -0.7706387 , -0.53541213,\n",
       "         0.0233782 ,  0.7530134 ,  0.97065526,  0.49203178, -0.17632928],\n",
       "       [-0.9799058 ,  2.4069552 ,  1.1872456 , -0.929989  ,  0.15677436,\n",
       "         0.9745097 ,  0.18665692, -0.42548138, -1.7148799 ,  0.26515654,\n",
       "         0.87537664,  0.11586288, -1.0293493 ,  0.12162451,  2.9968448 ,\n",
       "        -0.12619413, -2.0366242 ,  0.06683369,  0.03846562, -0.38248074],\n",
       "       [ 0.6749837 , -0.9786635 ,  1.8688353 , -0.40691411,  0.39974833,\n",
       "        -0.12174992,  0.22725469,  1.2235215 , -0.28243354, -0.48253158,\n",
       "        -0.2975851 , -1.5576445 ,  0.55011994, -0.7724294 , -0.53447086,\n",
       "         0.02363879,  0.7512759 ,  0.972613  ,  0.49258024, -0.17752519],\n",
       "       [ 0.9204518 ,  0.30393717, -1.4851649 , -0.09292597, -0.21319889,\n",
       "         0.28078228,  0.16695361,  0.5631742 ,  1.0578424 ,  1.9140507 ,\n",
       "         0.51240957, -0.50699425, -1.8560265 ,  0.19248852,  0.00709526,\n",
       "        -0.67457795,  1.1535089 , -0.05435918,  0.11536206,  0.65560746],\n",
       "       [ 0.92045814,  0.30301794, -1.4897683 , -0.09172031, -0.21396305,\n",
       "         0.27998942,  0.16699648,  0.5625146 ,  1.0593716 ,  1.913736  ,\n",
       "         0.5122841 , -0.50504684, -1.8554251 ,  0.19316903,  0.00559487,\n",
       "        -0.67512107,  1.154472  , -0.05537071,  0.11505568,  0.6570373 ],\n",
       "       [ 0.24869743,  0.64829624, -0.86898226,  0.83522344, -0.11825123,\n",
       "        -0.4062997 ,  0.4792967 , -0.58693177, -0.1989899 , -1.0416546 ,\n",
       "        -0.6801059 , -0.5744331 ,  0.99394095,  2.6079464 , -0.9352385 ,\n",
       "        -0.3245165 ,  0.23082688, -0.21972065,  0.01563974, -0.6429398 ],\n",
       "       [-0.9803778 ,  2.4107435 ,  1.1878843 , -0.93096465,  0.15616162,\n",
       "         0.9756696 ,  0.18833208, -0.42622626, -1.7163897 ,  0.26494327,\n",
       "         0.87597305,  0.11584434, -1.0302422 ,  0.12340711,  2.9997342 ,\n",
       "        -0.12783572, -2.038946  ,  0.06665391,  0.03782642, -0.38353407],\n",
       "       [ 0.24980295,  0.6478599 , -0.8700128 ,  0.83652693, -0.11868793,\n",
       "        -0.40681124,  0.4800424 , -0.58720165, -0.19818538, -1.0420347 ,\n",
       "        -0.6818396 , -0.5774997 ,  0.9949221 ,  2.6108038 , -0.9382367 ,\n",
       "        -0.32505035,  0.23403835, -0.2196867 ,  0.01611065, -0.64370054],\n",
       "       [ 0.6738824 , -0.9797655 ,  1.8685989 , -0.40790966,  0.39912826,\n",
       "        -0.12266921,  0.22749573,  1.2247695 , -0.28165752, -0.4819589 ,\n",
       "        -0.29861137, -1.5582345 ,  0.54983896, -0.77320766, -0.53620356,\n",
       "         0.0252046 ,  0.7530817 ,  0.9729229 ,  0.4923813 , -0.1775196 ],\n",
       "       [-1.0411161 , -1.6114906 , -1.3204304 ,  1.8555565 ,  1.2668605 ,\n",
       "         0.4708836 , -2.3059392 ,  0.2914316 ,  0.92621106, -1.5063889 ,\n",
       "         1.3093877 ,  3.0352976 ,  1.7956125 , -1.7541827 , -0.19006924,\n",
       "         0.8668824 , -0.6904174 , -0.5984739 ,  0.7474508 ,  1.7566947 ],\n",
       "       [-0.9811438 ,  2.407802  ,  1.1891686 , -0.9302848 ,  0.15615384,\n",
       "         0.9732777 ,  0.1885066 , -0.4266317 , -1.7151762 ,  0.26257855,\n",
       "         0.8730646 ,  0.11668838, -1.0268947 ,  0.12253271,  2.9952137 ,\n",
       "        -0.1260907 , -2.0378523 ,  0.06665991,  0.0373788 , -0.38508305],\n",
       "       [-1.2781126 , -2.1694593 ,  0.21775414, -2.3400807 , -2.7299285 ,\n",
       "        -2.0216134 ,  1.0707453 , -2.987831  ,  0.11899447,  1.5901902 ,\n",
       "        -2.2974977 ,  2.5352497 , -0.92878526, -3.7867677 , -1.5790422 ,\n",
       "         1.3249134 , -0.7811144 , -1.4176961 , -2.4946957 , -1.3395635 ],\n",
       "       [ 0.6731492 , -0.97761613,  1.8613065 , -0.40607962,  0.39889944,\n",
       "        -0.1209717 ,  0.22504182,  1.2232859 , -0.27846327, -0.47855332,\n",
       "        -0.2957075 , -1.5537512 ,  0.5465663 , -0.77248293, -0.5344461 ,\n",
       "         0.02470123,  0.7529146 ,  0.97092664,  0.49252975, -0.174042  ],\n",
       "       [ 0.24840192,  0.64766484, -0.8717748 ,  0.8362705 , -0.11805252,\n",
       "        -0.40606937,  0.47845158, -0.5867265 , -0.19596477, -1.0412991 ,\n",
       "        -0.679528  , -0.57281137,  0.99421316,  2.608274  , -0.9358975 ,\n",
       "        -0.3245679 ,  0.23175012, -0.22076157,  0.01567597, -0.64152753],\n",
       "       [ 0.24912578,  0.6469255 , -0.8703422 ,  0.8342337 , -0.11882778,\n",
       "        -0.40676817,  0.4796858 , -0.5859701 , -0.19747522, -1.0411389 ,\n",
       "        -0.68045425, -0.5757912 ,  0.99438345,  2.6058176 , -0.9361894 ,\n",
       "        -0.32430553,  0.23278329, -0.21833256,  0.01607852, -0.64275724]],\n",
       "      dtype=float32)"
      ]
     },
     "execution_count": 52,
     "metadata": {},
     "output_type": "execute_result"
    }
   ],
   "source": [
    "_, item_embeddings = model2.get_item_representations(features=item_features)\n",
    "item_embeddings"
   ]
  },
  {
   "cell_type": "markdown",
   "metadata": {},
   "source": [
    "The function to retrieve the top N similar items is similar to similar_users() above. For example, if we want to choose top 10 items most similar to the item 10:"
   ]
  },
  {
   "cell_type": "code",
   "execution_count": 53,
   "metadata": {},
   "outputs": [
    {
     "data": {
      "text/html": [
       "<div>\n",
       "<style scoped>\n",
       "    .dataframe tbody tr th:only-of-type {\n",
       "        vertical-align: middle;\n",
       "    }\n",
       "\n",
       "    .dataframe tbody tr th {\n",
       "        vertical-align: top;\n",
       "    }\n",
       "\n",
       "    .dataframe thead th {\n",
       "        text-align: right;\n",
       "    }\n",
       "</style>\n",
       "<table border=\"1\" class=\"dataframe\">\n",
       "  <thead>\n",
       "    <tr style=\"text-align: right;\">\n",
       "      <th></th>\n",
       "      <th>itemID</th>\n",
       "      <th>score</th>\n",
       "    </tr>\n",
       "  </thead>\n",
       "  <tbody>\n",
       "    <tr>\n",
       "      <th>0</th>\n",
       "      <td>29</td>\n",
       "      <td>1.000000</td>\n",
       "    </tr>\n",
       "    <tr>\n",
       "      <th>1</th>\n",
       "      <td>15</td>\n",
       "      <td>1.000000</td>\n",
       "    </tr>\n",
       "    <tr>\n",
       "      <th>2</th>\n",
       "      <td>34</td>\n",
       "      <td>0.999999</td>\n",
       "    </tr>\n",
       "    <tr>\n",
       "      <th>3</th>\n",
       "      <td>46</td>\n",
       "      <td>0.999999</td>\n",
       "    </tr>\n",
       "    <tr>\n",
       "      <th>4</th>\n",
       "      <td>11</td>\n",
       "      <td>0.999999</td>\n",
       "    </tr>\n",
       "    <tr>\n",
       "      <th>5</th>\n",
       "      <td>26</td>\n",
       "      <td>0.999999</td>\n",
       "    </tr>\n",
       "    <tr>\n",
       "      <th>6</th>\n",
       "      <td>32</td>\n",
       "      <td>0.999999</td>\n",
       "    </tr>\n",
       "    <tr>\n",
       "      <th>7</th>\n",
       "      <td>42</td>\n",
       "      <td>0.999999</td>\n",
       "    </tr>\n",
       "    <tr>\n",
       "      <th>8</th>\n",
       "      <td>2</td>\n",
       "      <td>0.999999</td>\n",
       "    </tr>\n",
       "    <tr>\n",
       "      <th>9</th>\n",
       "      <td>17</td>\n",
       "      <td>0.999998</td>\n",
       "    </tr>\n",
       "  </tbody>\n",
       "</table>\n",
       "</div>"
      ],
      "text/plain": [
       "   itemID     score\n",
       "0      29  1.000000\n",
       "1      15  1.000000\n",
       "2      34  0.999999\n",
       "3      46  0.999999\n",
       "4      11  0.999999\n",
       "5      26  0.999999\n",
       "6      32  0.999999\n",
       "7      42  0.999999\n",
       "8       2  0.999999\n",
       "9      17  0.999998"
      ]
     },
     "execution_count": 53,
     "metadata": {},
     "output_type": "execute_result"
    }
   ],
   "source": [
    "similar_items(item_id=10, item_features=item_features, \n",
    "            model=model2)"
   ]
  },
  {
   "cell_type": "code",
   "execution_count": 324,
   "metadata": {},
   "outputs": [
    {
     "data": {
      "text/html": [
       "<div>\n",
       "<style scoped>\n",
       "    .dataframe tbody tr th:only-of-type {\n",
       "        vertical-align: middle;\n",
       "    }\n",
       "\n",
       "    .dataframe tbody tr th {\n",
       "        vertical-align: top;\n",
       "    }\n",
       "\n",
       "    .dataframe thead th {\n",
       "        text-align: right;\n",
       "    }\n",
       "</style>\n",
       "<table border=\"1\" class=\"dataframe\">\n",
       "  <thead>\n",
       "    <tr style=\"text-align: right;\">\n",
       "      <th></th>\n",
       "      <th>userID</th>\n",
       "      <th>itemID</th>\n",
       "      <th>prediction</th>\n",
       "    </tr>\n",
       "  </thead>\n",
       "  <tbody>\n",
       "    <tr>\n",
       "      <th>33968</th>\n",
       "      <td>2</td>\n",
       "      <td>6</td>\n",
       "      <td>-3.823840</td>\n",
       "    </tr>\n",
       "    <tr>\n",
       "      <th>33969</th>\n",
       "      <td>2</td>\n",
       "      <td>22</td>\n",
       "      <td>-3.544358</td>\n",
       "    </tr>\n",
       "    <tr>\n",
       "      <th>33970</th>\n",
       "      <td>2</td>\n",
       "      <td>39</td>\n",
       "      <td>-3.813453</td>\n",
       "    </tr>\n",
       "    <tr>\n",
       "      <th>33971</th>\n",
       "      <td>2</td>\n",
       "      <td>25</td>\n",
       "      <td>-9.517488</td>\n",
       "    </tr>\n",
       "    <tr>\n",
       "      <th>33972</th>\n",
       "      <td>2</td>\n",
       "      <td>27</td>\n",
       "      <td>-7.130971</td>\n",
       "    </tr>\n",
       "    <tr>\n",
       "      <th>33973</th>\n",
       "      <td>2</td>\n",
       "      <td>19</td>\n",
       "      <td>-5.052196</td>\n",
       "    </tr>\n",
       "    <tr>\n",
       "      <th>33974</th>\n",
       "      <td>2</td>\n",
       "      <td>17</td>\n",
       "      <td>-5.207697</td>\n",
       "    </tr>\n",
       "    <tr>\n",
       "      <th>33975</th>\n",
       "      <td>2</td>\n",
       "      <td>47</td>\n",
       "      <td>-4.552753</td>\n",
       "    </tr>\n",
       "    <tr>\n",
       "      <th>33976</th>\n",
       "      <td>2</td>\n",
       "      <td>9</td>\n",
       "      <td>-4.980853</td>\n",
       "    </tr>\n",
       "    <tr>\n",
       "      <th>33977</th>\n",
       "      <td>2</td>\n",
       "      <td>3</td>\n",
       "      <td>-3.580595</td>\n",
       "    </tr>\n",
       "    <tr>\n",
       "      <th>33978</th>\n",
       "      <td>2</td>\n",
       "      <td>42</td>\n",
       "      <td>-5.956785</td>\n",
       "    </tr>\n",
       "    <tr>\n",
       "      <th>33979</th>\n",
       "      <td>2</td>\n",
       "      <td>34</td>\n",
       "      <td>-7.561811</td>\n",
       "    </tr>\n",
       "    <tr>\n",
       "      <th>33980</th>\n",
       "      <td>2</td>\n",
       "      <td>21</td>\n",
       "      <td>-6.315529</td>\n",
       "    </tr>\n",
       "    <tr>\n",
       "      <th>33981</th>\n",
       "      <td>2</td>\n",
       "      <td>38</td>\n",
       "      <td>-5.070020</td>\n",
       "    </tr>\n",
       "    <tr>\n",
       "      <th>33982</th>\n",
       "      <td>2</td>\n",
       "      <td>2</td>\n",
       "      <td>-4.329886</td>\n",
       "    </tr>\n",
       "    <tr>\n",
       "      <th>33983</th>\n",
       "      <td>2</td>\n",
       "      <td>10</td>\n",
       "      <td>-4.886624</td>\n",
       "    </tr>\n",
       "    <tr>\n",
       "      <th>33984</th>\n",
       "      <td>2</td>\n",
       "      <td>43</td>\n",
       "      <td>-4.826144</td>\n",
       "    </tr>\n",
       "    <tr>\n",
       "      <th>33985</th>\n",
       "      <td>2</td>\n",
       "      <td>28</td>\n",
       "      <td>-4.392144</td>\n",
       "    </tr>\n",
       "    <tr>\n",
       "      <th>33986</th>\n",
       "      <td>2</td>\n",
       "      <td>23</td>\n",
       "      <td>-3.804820</td>\n",
       "    </tr>\n",
       "    <tr>\n",
       "      <th>33987</th>\n",
       "      <td>2</td>\n",
       "      <td>37</td>\n",
       "      <td>-9.135950</td>\n",
       "    </tr>\n",
       "    <tr>\n",
       "      <th>33988</th>\n",
       "      <td>2</td>\n",
       "      <td>7</td>\n",
       "      <td>-3.999998</td>\n",
       "    </tr>\n",
       "    <tr>\n",
       "      <th>33989</th>\n",
       "      <td>2</td>\n",
       "      <td>4</td>\n",
       "      <td>-4.153882</td>\n",
       "    </tr>\n",
       "    <tr>\n",
       "      <th>33990</th>\n",
       "      <td>2</td>\n",
       "      <td>24</td>\n",
       "      <td>-7.790068</td>\n",
       "    </tr>\n",
       "    <tr>\n",
       "      <th>33991</th>\n",
       "      <td>2</td>\n",
       "      <td>20</td>\n",
       "      <td>-9.158606</td>\n",
       "    </tr>\n",
       "    <tr>\n",
       "      <th>33992</th>\n",
       "      <td>2</td>\n",
       "      <td>49</td>\n",
       "      <td>-7.113836</td>\n",
       "    </tr>\n",
       "    <tr>\n",
       "      <th>33993</th>\n",
       "      <td>2</td>\n",
       "      <td>32</td>\n",
       "      <td>-6.283813</td>\n",
       "    </tr>\n",
       "    <tr>\n",
       "      <th>33994</th>\n",
       "      <td>2</td>\n",
       "      <td>15</td>\n",
       "      <td>-3.265245</td>\n",
       "    </tr>\n",
       "    <tr>\n",
       "      <th>33995</th>\n",
       "      <td>2</td>\n",
       "      <td>5</td>\n",
       "      <td>-4.116963</td>\n",
       "    </tr>\n",
       "    <tr>\n",
       "      <th>33996</th>\n",
       "      <td>2</td>\n",
       "      <td>33</td>\n",
       "      <td>-5.814620</td>\n",
       "    </tr>\n",
       "    <tr>\n",
       "      <th>33997</th>\n",
       "      <td>2</td>\n",
       "      <td>45</td>\n",
       "      <td>-6.866232</td>\n",
       "    </tr>\n",
       "    <tr>\n",
       "      <th>33998</th>\n",
       "      <td>2</td>\n",
       "      <td>40</td>\n",
       "      <td>-3.233053</td>\n",
       "    </tr>\n",
       "    <tr>\n",
       "      <th>33999</th>\n",
       "      <td>2</td>\n",
       "      <td>41</td>\n",
       "      <td>-4.574147</td>\n",
       "    </tr>\n",
       "    <tr>\n",
       "      <th>34000</th>\n",
       "      <td>2</td>\n",
       "      <td>13</td>\n",
       "      <td>-3.876440</td>\n",
       "    </tr>\n",
       "    <tr>\n",
       "      <th>34001</th>\n",
       "      <td>2</td>\n",
       "      <td>36</td>\n",
       "      <td>-2.914608</td>\n",
       "    </tr>\n",
       "    <tr>\n",
       "      <th>34002</th>\n",
       "      <td>2</td>\n",
       "      <td>31</td>\n",
       "      <td>-1.842821</td>\n",
       "    </tr>\n",
       "    <tr>\n",
       "      <th>34003</th>\n",
       "      <td>2</td>\n",
       "      <td>18</td>\n",
       "      <td>-9.665578</td>\n",
       "    </tr>\n",
       "    <tr>\n",
       "      <th>34004</th>\n",
       "      <td>2</td>\n",
       "      <td>35</td>\n",
       "      <td>-7.177580</td>\n",
       "    </tr>\n",
       "    <tr>\n",
       "      <th>34005</th>\n",
       "      <td>2</td>\n",
       "      <td>1</td>\n",
       "      <td>-6.983488</td>\n",
       "    </tr>\n",
       "    <tr>\n",
       "      <th>34006</th>\n",
       "      <td>2</td>\n",
       "      <td>29</td>\n",
       "      <td>-7.072313</td>\n",
       "    </tr>\n",
       "    <tr>\n",
       "      <th>34007</th>\n",
       "      <td>2</td>\n",
       "      <td>26</td>\n",
       "      <td>-7.277069</td>\n",
       "    </tr>\n",
       "    <tr>\n",
       "      <th>34008</th>\n",
       "      <td>2</td>\n",
       "      <td>11</td>\n",
       "      <td>-5.083778</td>\n",
       "    </tr>\n",
       "  </tbody>\n",
       "</table>\n",
       "</div>"
      ],
      "text/plain": [
       "       userID  itemID  prediction\n",
       "33968       2       6   -3.823840\n",
       "33969       2      22   -3.544358\n",
       "33970       2      39   -3.813453\n",
       "33971       2      25   -9.517488\n",
       "33972       2      27   -7.130971\n",
       "33973       2      19   -5.052196\n",
       "33974       2      17   -5.207697\n",
       "33975       2      47   -4.552753\n",
       "33976       2       9   -4.980853\n",
       "33977       2       3   -3.580595\n",
       "33978       2      42   -5.956785\n",
       "33979       2      34   -7.561811\n",
       "33980       2      21   -6.315529\n",
       "33981       2      38   -5.070020\n",
       "33982       2       2   -4.329886\n",
       "33983       2      10   -4.886624\n",
       "33984       2      43   -4.826144\n",
       "33985       2      28   -4.392144\n",
       "33986       2      23   -3.804820\n",
       "33987       2      37   -9.135950\n",
       "33988       2       7   -3.999998\n",
       "33989       2       4   -4.153882\n",
       "33990       2      24   -7.790068\n",
       "33991       2      20   -9.158606\n",
       "33992       2      49   -7.113836\n",
       "33993       2      32   -6.283813\n",
       "33994       2      15   -3.265245\n",
       "33995       2       5   -4.116963\n",
       "33996       2      33   -5.814620\n",
       "33997       2      45   -6.866232\n",
       "33998       2      40   -3.233053\n",
       "33999       2      41   -4.574147\n",
       "34000       2      13   -3.876440\n",
       "34001       2      36   -2.914608\n",
       "34002       2      31   -1.842821\n",
       "34003       2      18   -9.665578\n",
       "34004       2      35   -7.177580\n",
       "34005       2       1   -6.983488\n",
       "34006       2      29   -7.072313\n",
       "34007       2      26   -7.277069\n",
       "34008       2      11   -5.083778"
      ]
     },
     "execution_count": 324,
     "metadata": {},
     "output_type": "execute_result"
    }
   ],
   "source": [
    "all_predictions[all_predictions['userID'] == 2]"
   ]
  },
  {
   "cell_type": "markdown",
   "metadata": {},
   "source": [
    "## 6. Conclusion"
   ]
  },
  {
   "cell_type": "markdown",
   "metadata": {},
   "source": [
    "In this notebook, the background of hybrid matrix factorisation model has been explained together with a detailed example of LightFM's implementation. \n",
    "\n",
    "The process of incorporating additional user and item metadata has also been demonstrated with performance comparison. Furthermore, the calculation of both user and item affinity scores have also been demonstrated and extracted from the fitted model.\n",
    "\n",
    "This notebook remains a fairly simple treatment on the subject and hopefully could serve as a good foundation for the reader."
   ]
  },
  {
   "cell_type": "markdown",
   "metadata": {},
   "source": [
    "## References"
   ]
  },
  {
   "cell_type": "markdown",
   "metadata": {},
   "source": [
    "- [[1](https://arxiv.org/abs/1507.08439)]. Maciej Kula - Metadata Embeddings for User and Item Cold-start Recommendations, 2015. arXiv:1507.08439\n",
    "- [[2](https://making.lyst.com/lightfm/docs/home.html)]. LightFM documentation,\n",
    "- [3]. Charu C. Aggarwal - Recommender Systems: The Textbook, Springer, April 2016. ISBN 978-3-319-29659-3\n",
    "- [4]. Deepak K. Agarwal, Bee-Chung Chen - Statistical Methods for Recommender Systems, 2016. ISBN: 9781107036079 \n"
   ]
  }
 ],
 "metadata": {
  "kernelspec": {
   "display_name": "Python (reco)",
   "language": "python",
   "name": "reco_base"
  },
  "language_info": {
   "codemirror_mode": {
    "name": "ipython",
    "version": 3
   },
   "file_extension": ".py",
   "mimetype": "text/x-python",
   "name": "python",
   "nbconvert_exporter": "python",
   "pygments_lexer": "ipython3",
   "version": "3.6.10"
  }
 },
 "nbformat": 4,
 "nbformat_minor": 4
}
